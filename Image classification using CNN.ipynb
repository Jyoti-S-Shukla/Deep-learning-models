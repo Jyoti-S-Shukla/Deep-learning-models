{
  "nbformat": 4,
  "nbformat_minor": 0,
  "metadata": {
    "colab": {
      "name": "Spring_22_NNDL_Lab_7_Jyoti Shukla.ipynb",
      "provenance": [],
      "collapsed_sections": [
        "743jQyoKr9nG",
        "L1fb_c5V7AI1"
      ],
      "include_colab_link": true
    },
    "kernelspec": {
      "name": "python3",
      "display_name": "Python 3"
    },
    "language_info": {
      "name": "python"
    },
    "accelerator": "GPU",
    "widgets": {
      "application/vnd.jupyter.widget-state+json": {
        "85b060f52b8c4beba789dedcee53f31e": {
          "model_module": "@jupyter-widgets/controls",
          "model_name": "HBoxModel",
          "model_module_version": "1.5.0",
          "state": {
            "_view_name": "HBoxView",
            "_dom_classes": [],
            "_model_name": "HBoxModel",
            "_view_module": "@jupyter-widgets/controls",
            "_model_module_version": "1.5.0",
            "_view_count": null,
            "_view_module_version": "1.5.0",
            "box_style": "",
            "layout": "IPY_MODEL_d6b4a0ba1ca740079ffc64bd17aa1cad",
            "_model_module": "@jupyter-widgets/controls",
            "children": [
              "IPY_MODEL_808125b5f49f4b93b99e4157e26e1bab",
              "IPY_MODEL_0fa4685d717c4ee586f2ee464ed5bfd5",
              "IPY_MODEL_d9d34103c85b4125aa16d97215123a6a"
            ]
          }
        },
        "d6b4a0ba1ca740079ffc64bd17aa1cad": {
          "model_module": "@jupyter-widgets/base",
          "model_name": "LayoutModel",
          "model_module_version": "1.2.0",
          "state": {
            "_view_name": "LayoutView",
            "grid_template_rows": null,
            "right": null,
            "justify_content": null,
            "_view_module": "@jupyter-widgets/base",
            "overflow": null,
            "_model_module_version": "1.2.0",
            "_view_count": null,
            "flex_flow": null,
            "width": null,
            "min_width": null,
            "border": null,
            "align_items": null,
            "bottom": null,
            "_model_module": "@jupyter-widgets/base",
            "top": null,
            "grid_column": null,
            "overflow_y": null,
            "overflow_x": null,
            "grid_auto_flow": null,
            "grid_area": null,
            "grid_template_columns": null,
            "flex": null,
            "_model_name": "LayoutModel",
            "justify_items": null,
            "grid_row": null,
            "max_height": null,
            "align_content": null,
            "visibility": null,
            "align_self": null,
            "height": null,
            "min_height": null,
            "padding": null,
            "grid_auto_rows": null,
            "grid_gap": null,
            "max_width": null,
            "order": null,
            "_view_module_version": "1.2.0",
            "grid_template_areas": null,
            "object_position": null,
            "object_fit": null,
            "grid_auto_columns": null,
            "margin": null,
            "display": null,
            "left": null
          }
        },
        "808125b5f49f4b93b99e4157e26e1bab": {
          "model_module": "@jupyter-widgets/controls",
          "model_name": "HTMLModel",
          "model_module_version": "1.5.0",
          "state": {
            "_view_name": "HTMLView",
            "style": "IPY_MODEL_4ad685e32bc841239bc0906965a2b373",
            "_dom_classes": [],
            "description": "",
            "_model_name": "HTMLModel",
            "placeholder": "​",
            "_view_module": "@jupyter-widgets/controls",
            "_model_module_version": "1.5.0",
            "value": "",
            "_view_count": null,
            "_view_module_version": "1.5.0",
            "description_tooltip": null,
            "_model_module": "@jupyter-widgets/controls",
            "layout": "IPY_MODEL_952d94da8849425689e5822611e641b8"
          }
        },
        "0fa4685d717c4ee586f2ee464ed5bfd5": {
          "model_module": "@jupyter-widgets/controls",
          "model_name": "FloatProgressModel",
          "model_module_version": "1.5.0",
          "state": {
            "_view_name": "ProgressView",
            "style": "IPY_MODEL_b0d56449414f4f3cb0c6a7d83a594ccc",
            "_dom_classes": [],
            "description": "",
            "_model_name": "FloatProgressModel",
            "bar_style": "success",
            "max": 9912422,
            "_view_module": "@jupyter-widgets/controls",
            "_model_module_version": "1.5.0",
            "value": 9912422,
            "_view_count": null,
            "_view_module_version": "1.5.0",
            "orientation": "horizontal",
            "min": 0,
            "description_tooltip": null,
            "_model_module": "@jupyter-widgets/controls",
            "layout": "IPY_MODEL_a02d8d7adc624cf0b1ebaed28bfa2ab8"
          }
        },
        "d9d34103c85b4125aa16d97215123a6a": {
          "model_module": "@jupyter-widgets/controls",
          "model_name": "HTMLModel",
          "model_module_version": "1.5.0",
          "state": {
            "_view_name": "HTMLView",
            "style": "IPY_MODEL_43de2d4d048444718d31e6a9b561ae5a",
            "_dom_classes": [],
            "description": "",
            "_model_name": "HTMLModel",
            "placeholder": "​",
            "_view_module": "@jupyter-widgets/controls",
            "_model_module_version": "1.5.0",
            "value": " 9913344/? [00:00&lt;00:00, 12798639.06it/s]",
            "_view_count": null,
            "_view_module_version": "1.5.0",
            "description_tooltip": null,
            "_model_module": "@jupyter-widgets/controls",
            "layout": "IPY_MODEL_a9e5127f8af94a778b9e43392b1f30ff"
          }
        },
        "4ad685e32bc841239bc0906965a2b373": {
          "model_module": "@jupyter-widgets/controls",
          "model_name": "DescriptionStyleModel",
          "model_module_version": "1.5.0",
          "state": {
            "_view_name": "StyleView",
            "_model_name": "DescriptionStyleModel",
            "description_width": "",
            "_view_module": "@jupyter-widgets/base",
            "_model_module_version": "1.5.0",
            "_view_count": null,
            "_view_module_version": "1.2.0",
            "_model_module": "@jupyter-widgets/controls"
          }
        },
        "952d94da8849425689e5822611e641b8": {
          "model_module": "@jupyter-widgets/base",
          "model_name": "LayoutModel",
          "model_module_version": "1.2.0",
          "state": {
            "_view_name": "LayoutView",
            "grid_template_rows": null,
            "right": null,
            "justify_content": null,
            "_view_module": "@jupyter-widgets/base",
            "overflow": null,
            "_model_module_version": "1.2.0",
            "_view_count": null,
            "flex_flow": null,
            "width": null,
            "min_width": null,
            "border": null,
            "align_items": null,
            "bottom": null,
            "_model_module": "@jupyter-widgets/base",
            "top": null,
            "grid_column": null,
            "overflow_y": null,
            "overflow_x": null,
            "grid_auto_flow": null,
            "grid_area": null,
            "grid_template_columns": null,
            "flex": null,
            "_model_name": "LayoutModel",
            "justify_items": null,
            "grid_row": null,
            "max_height": null,
            "align_content": null,
            "visibility": null,
            "align_self": null,
            "height": null,
            "min_height": null,
            "padding": null,
            "grid_auto_rows": null,
            "grid_gap": null,
            "max_width": null,
            "order": null,
            "_view_module_version": "1.2.0",
            "grid_template_areas": null,
            "object_position": null,
            "object_fit": null,
            "grid_auto_columns": null,
            "margin": null,
            "display": null,
            "left": null
          }
        },
        "b0d56449414f4f3cb0c6a7d83a594ccc": {
          "model_module": "@jupyter-widgets/controls",
          "model_name": "ProgressStyleModel",
          "model_module_version": "1.5.0",
          "state": {
            "_view_name": "StyleView",
            "_model_name": "ProgressStyleModel",
            "description_width": "",
            "_view_module": "@jupyter-widgets/base",
            "_model_module_version": "1.5.0",
            "_view_count": null,
            "_view_module_version": "1.2.0",
            "bar_color": null,
            "_model_module": "@jupyter-widgets/controls"
          }
        },
        "a02d8d7adc624cf0b1ebaed28bfa2ab8": {
          "model_module": "@jupyter-widgets/base",
          "model_name": "LayoutModel",
          "model_module_version": "1.2.0",
          "state": {
            "_view_name": "LayoutView",
            "grid_template_rows": null,
            "right": null,
            "justify_content": null,
            "_view_module": "@jupyter-widgets/base",
            "overflow": null,
            "_model_module_version": "1.2.0",
            "_view_count": null,
            "flex_flow": null,
            "width": null,
            "min_width": null,
            "border": null,
            "align_items": null,
            "bottom": null,
            "_model_module": "@jupyter-widgets/base",
            "top": null,
            "grid_column": null,
            "overflow_y": null,
            "overflow_x": null,
            "grid_auto_flow": null,
            "grid_area": null,
            "grid_template_columns": null,
            "flex": null,
            "_model_name": "LayoutModel",
            "justify_items": null,
            "grid_row": null,
            "max_height": null,
            "align_content": null,
            "visibility": null,
            "align_self": null,
            "height": null,
            "min_height": null,
            "padding": null,
            "grid_auto_rows": null,
            "grid_gap": null,
            "max_width": null,
            "order": null,
            "_view_module_version": "1.2.0",
            "grid_template_areas": null,
            "object_position": null,
            "object_fit": null,
            "grid_auto_columns": null,
            "margin": null,
            "display": null,
            "left": null
          }
        },
        "43de2d4d048444718d31e6a9b561ae5a": {
          "model_module": "@jupyter-widgets/controls",
          "model_name": "DescriptionStyleModel",
          "model_module_version": "1.5.0",
          "state": {
            "_view_name": "StyleView",
            "_model_name": "DescriptionStyleModel",
            "description_width": "",
            "_view_module": "@jupyter-widgets/base",
            "_model_module_version": "1.5.0",
            "_view_count": null,
            "_view_module_version": "1.2.0",
            "_model_module": "@jupyter-widgets/controls"
          }
        },
        "a9e5127f8af94a778b9e43392b1f30ff": {
          "model_module": "@jupyter-widgets/base",
          "model_name": "LayoutModel",
          "model_module_version": "1.2.0",
          "state": {
            "_view_name": "LayoutView",
            "grid_template_rows": null,
            "right": null,
            "justify_content": null,
            "_view_module": "@jupyter-widgets/base",
            "overflow": null,
            "_model_module_version": "1.2.0",
            "_view_count": null,
            "flex_flow": null,
            "width": null,
            "min_width": null,
            "border": null,
            "align_items": null,
            "bottom": null,
            "_model_module": "@jupyter-widgets/base",
            "top": null,
            "grid_column": null,
            "overflow_y": null,
            "overflow_x": null,
            "grid_auto_flow": null,
            "grid_area": null,
            "grid_template_columns": null,
            "flex": null,
            "_model_name": "LayoutModel",
            "justify_items": null,
            "grid_row": null,
            "max_height": null,
            "align_content": null,
            "visibility": null,
            "align_self": null,
            "height": null,
            "min_height": null,
            "padding": null,
            "grid_auto_rows": null,
            "grid_gap": null,
            "max_width": null,
            "order": null,
            "_view_module_version": "1.2.0",
            "grid_template_areas": null,
            "object_position": null,
            "object_fit": null,
            "grid_auto_columns": null,
            "margin": null,
            "display": null,
            "left": null
          }
        },
        "5b18390fe10548d2a9e0dafdfa678a82": {
          "model_module": "@jupyter-widgets/controls",
          "model_name": "HBoxModel",
          "model_module_version": "1.5.0",
          "state": {
            "_view_name": "HBoxView",
            "_dom_classes": [],
            "_model_name": "HBoxModel",
            "_view_module": "@jupyter-widgets/controls",
            "_model_module_version": "1.5.0",
            "_view_count": null,
            "_view_module_version": "1.5.0",
            "box_style": "",
            "layout": "IPY_MODEL_1cf6958ac52842698a1891567d53d1bf",
            "_model_module": "@jupyter-widgets/controls",
            "children": [
              "IPY_MODEL_ea5cde22538b48aa8fe7afba17a35a70",
              "IPY_MODEL_4c6181cc2bdb41cfaf5ce8c10c02141a",
              "IPY_MODEL_3ee202da44a1439f8dbf019241d16ce7"
            ]
          }
        },
        "1cf6958ac52842698a1891567d53d1bf": {
          "model_module": "@jupyter-widgets/base",
          "model_name": "LayoutModel",
          "model_module_version": "1.2.0",
          "state": {
            "_view_name": "LayoutView",
            "grid_template_rows": null,
            "right": null,
            "justify_content": null,
            "_view_module": "@jupyter-widgets/base",
            "overflow": null,
            "_model_module_version": "1.2.0",
            "_view_count": null,
            "flex_flow": null,
            "width": null,
            "min_width": null,
            "border": null,
            "align_items": null,
            "bottom": null,
            "_model_module": "@jupyter-widgets/base",
            "top": null,
            "grid_column": null,
            "overflow_y": null,
            "overflow_x": null,
            "grid_auto_flow": null,
            "grid_area": null,
            "grid_template_columns": null,
            "flex": null,
            "_model_name": "LayoutModel",
            "justify_items": null,
            "grid_row": null,
            "max_height": null,
            "align_content": null,
            "visibility": null,
            "align_self": null,
            "height": null,
            "min_height": null,
            "padding": null,
            "grid_auto_rows": null,
            "grid_gap": null,
            "max_width": null,
            "order": null,
            "_view_module_version": "1.2.0",
            "grid_template_areas": null,
            "object_position": null,
            "object_fit": null,
            "grid_auto_columns": null,
            "margin": null,
            "display": null,
            "left": null
          }
        },
        "ea5cde22538b48aa8fe7afba17a35a70": {
          "model_module": "@jupyter-widgets/controls",
          "model_name": "HTMLModel",
          "model_module_version": "1.5.0",
          "state": {
            "_view_name": "HTMLView",
            "style": "IPY_MODEL_d3d0209bad554bc887cc9ac831ec4aae",
            "_dom_classes": [],
            "description": "",
            "_model_name": "HTMLModel",
            "placeholder": "​",
            "_view_module": "@jupyter-widgets/controls",
            "_model_module_version": "1.5.0",
            "value": "",
            "_view_count": null,
            "_view_module_version": "1.5.0",
            "description_tooltip": null,
            "_model_module": "@jupyter-widgets/controls",
            "layout": "IPY_MODEL_3bd8c3a6607749409e76f15dd8c27091"
          }
        },
        "4c6181cc2bdb41cfaf5ce8c10c02141a": {
          "model_module": "@jupyter-widgets/controls",
          "model_name": "FloatProgressModel",
          "model_module_version": "1.5.0",
          "state": {
            "_view_name": "ProgressView",
            "style": "IPY_MODEL_51c5c5d052f84e029a3273b5eda8d666",
            "_dom_classes": [],
            "description": "",
            "_model_name": "FloatProgressModel",
            "bar_style": "success",
            "max": 28881,
            "_view_module": "@jupyter-widgets/controls",
            "_model_module_version": "1.5.0",
            "value": 28881,
            "_view_count": null,
            "_view_module_version": "1.5.0",
            "orientation": "horizontal",
            "min": 0,
            "description_tooltip": null,
            "_model_module": "@jupyter-widgets/controls",
            "layout": "IPY_MODEL_1c3559e7bf914b2f981c2e960c4f900f"
          }
        },
        "3ee202da44a1439f8dbf019241d16ce7": {
          "model_module": "@jupyter-widgets/controls",
          "model_name": "HTMLModel",
          "model_module_version": "1.5.0",
          "state": {
            "_view_name": "HTMLView",
            "style": "IPY_MODEL_047f11b865514693a628abb6fb00f771",
            "_dom_classes": [],
            "description": "",
            "_model_name": "HTMLModel",
            "placeholder": "​",
            "_view_module": "@jupyter-widgets/controls",
            "_model_module_version": "1.5.0",
            "value": " 29696/? [00:00&lt;00:00, 653004.36it/s]",
            "_view_count": null,
            "_view_module_version": "1.5.0",
            "description_tooltip": null,
            "_model_module": "@jupyter-widgets/controls",
            "layout": "IPY_MODEL_016502102bb3427f809dd249829b444b"
          }
        },
        "d3d0209bad554bc887cc9ac831ec4aae": {
          "model_module": "@jupyter-widgets/controls",
          "model_name": "DescriptionStyleModel",
          "model_module_version": "1.5.0",
          "state": {
            "_view_name": "StyleView",
            "_model_name": "DescriptionStyleModel",
            "description_width": "",
            "_view_module": "@jupyter-widgets/base",
            "_model_module_version": "1.5.0",
            "_view_count": null,
            "_view_module_version": "1.2.0",
            "_model_module": "@jupyter-widgets/controls"
          }
        },
        "3bd8c3a6607749409e76f15dd8c27091": {
          "model_module": "@jupyter-widgets/base",
          "model_name": "LayoutModel",
          "model_module_version": "1.2.0",
          "state": {
            "_view_name": "LayoutView",
            "grid_template_rows": null,
            "right": null,
            "justify_content": null,
            "_view_module": "@jupyter-widgets/base",
            "overflow": null,
            "_model_module_version": "1.2.0",
            "_view_count": null,
            "flex_flow": null,
            "width": null,
            "min_width": null,
            "border": null,
            "align_items": null,
            "bottom": null,
            "_model_module": "@jupyter-widgets/base",
            "top": null,
            "grid_column": null,
            "overflow_y": null,
            "overflow_x": null,
            "grid_auto_flow": null,
            "grid_area": null,
            "grid_template_columns": null,
            "flex": null,
            "_model_name": "LayoutModel",
            "justify_items": null,
            "grid_row": null,
            "max_height": null,
            "align_content": null,
            "visibility": null,
            "align_self": null,
            "height": null,
            "min_height": null,
            "padding": null,
            "grid_auto_rows": null,
            "grid_gap": null,
            "max_width": null,
            "order": null,
            "_view_module_version": "1.2.0",
            "grid_template_areas": null,
            "object_position": null,
            "object_fit": null,
            "grid_auto_columns": null,
            "margin": null,
            "display": null,
            "left": null
          }
        },
        "51c5c5d052f84e029a3273b5eda8d666": {
          "model_module": "@jupyter-widgets/controls",
          "model_name": "ProgressStyleModel",
          "model_module_version": "1.5.0",
          "state": {
            "_view_name": "StyleView",
            "_model_name": "ProgressStyleModel",
            "description_width": "",
            "_view_module": "@jupyter-widgets/base",
            "_model_module_version": "1.5.0",
            "_view_count": null,
            "_view_module_version": "1.2.0",
            "bar_color": null,
            "_model_module": "@jupyter-widgets/controls"
          }
        },
        "1c3559e7bf914b2f981c2e960c4f900f": {
          "model_module": "@jupyter-widgets/base",
          "model_name": "LayoutModel",
          "model_module_version": "1.2.0",
          "state": {
            "_view_name": "LayoutView",
            "grid_template_rows": null,
            "right": null,
            "justify_content": null,
            "_view_module": "@jupyter-widgets/base",
            "overflow": null,
            "_model_module_version": "1.2.0",
            "_view_count": null,
            "flex_flow": null,
            "width": null,
            "min_width": null,
            "border": null,
            "align_items": null,
            "bottom": null,
            "_model_module": "@jupyter-widgets/base",
            "top": null,
            "grid_column": null,
            "overflow_y": null,
            "overflow_x": null,
            "grid_auto_flow": null,
            "grid_area": null,
            "grid_template_columns": null,
            "flex": null,
            "_model_name": "LayoutModel",
            "justify_items": null,
            "grid_row": null,
            "max_height": null,
            "align_content": null,
            "visibility": null,
            "align_self": null,
            "height": null,
            "min_height": null,
            "padding": null,
            "grid_auto_rows": null,
            "grid_gap": null,
            "max_width": null,
            "order": null,
            "_view_module_version": "1.2.0",
            "grid_template_areas": null,
            "object_position": null,
            "object_fit": null,
            "grid_auto_columns": null,
            "margin": null,
            "display": null,
            "left": null
          }
        },
        "047f11b865514693a628abb6fb00f771": {
          "model_module": "@jupyter-widgets/controls",
          "model_name": "DescriptionStyleModel",
          "model_module_version": "1.5.0",
          "state": {
            "_view_name": "StyleView",
            "_model_name": "DescriptionStyleModel",
            "description_width": "",
            "_view_module": "@jupyter-widgets/base",
            "_model_module_version": "1.5.0",
            "_view_count": null,
            "_view_module_version": "1.2.0",
            "_model_module": "@jupyter-widgets/controls"
          }
        },
        "016502102bb3427f809dd249829b444b": {
          "model_module": "@jupyter-widgets/base",
          "model_name": "LayoutModel",
          "model_module_version": "1.2.0",
          "state": {
            "_view_name": "LayoutView",
            "grid_template_rows": null,
            "right": null,
            "justify_content": null,
            "_view_module": "@jupyter-widgets/base",
            "overflow": null,
            "_model_module_version": "1.2.0",
            "_view_count": null,
            "flex_flow": null,
            "width": null,
            "min_width": null,
            "border": null,
            "align_items": null,
            "bottom": null,
            "_model_module": "@jupyter-widgets/base",
            "top": null,
            "grid_column": null,
            "overflow_y": null,
            "overflow_x": null,
            "grid_auto_flow": null,
            "grid_area": null,
            "grid_template_columns": null,
            "flex": null,
            "_model_name": "LayoutModel",
            "justify_items": null,
            "grid_row": null,
            "max_height": null,
            "align_content": null,
            "visibility": null,
            "align_self": null,
            "height": null,
            "min_height": null,
            "padding": null,
            "grid_auto_rows": null,
            "grid_gap": null,
            "max_width": null,
            "order": null,
            "_view_module_version": "1.2.0",
            "grid_template_areas": null,
            "object_position": null,
            "object_fit": null,
            "grid_auto_columns": null,
            "margin": null,
            "display": null,
            "left": null
          }
        },
        "2ba0862b4ec8435bbb2e73672365dc9e": {
          "model_module": "@jupyter-widgets/controls",
          "model_name": "HBoxModel",
          "model_module_version": "1.5.0",
          "state": {
            "_view_name": "HBoxView",
            "_dom_classes": [],
            "_model_name": "HBoxModel",
            "_view_module": "@jupyter-widgets/controls",
            "_model_module_version": "1.5.0",
            "_view_count": null,
            "_view_module_version": "1.5.0",
            "box_style": "",
            "layout": "IPY_MODEL_619e33edecb8455f883457e1d97ecf94",
            "_model_module": "@jupyter-widgets/controls",
            "children": [
              "IPY_MODEL_e46cf9525f48406193fd8ee9010cc2b2",
              "IPY_MODEL_42b820cb9e3d43af8ebfa555e98587dd",
              "IPY_MODEL_da5ec31d47454f3fa973d316d1c48e56"
            ]
          }
        },
        "619e33edecb8455f883457e1d97ecf94": {
          "model_module": "@jupyter-widgets/base",
          "model_name": "LayoutModel",
          "model_module_version": "1.2.0",
          "state": {
            "_view_name": "LayoutView",
            "grid_template_rows": null,
            "right": null,
            "justify_content": null,
            "_view_module": "@jupyter-widgets/base",
            "overflow": null,
            "_model_module_version": "1.2.0",
            "_view_count": null,
            "flex_flow": null,
            "width": null,
            "min_width": null,
            "border": null,
            "align_items": null,
            "bottom": null,
            "_model_module": "@jupyter-widgets/base",
            "top": null,
            "grid_column": null,
            "overflow_y": null,
            "overflow_x": null,
            "grid_auto_flow": null,
            "grid_area": null,
            "grid_template_columns": null,
            "flex": null,
            "_model_name": "LayoutModel",
            "justify_items": null,
            "grid_row": null,
            "max_height": null,
            "align_content": null,
            "visibility": null,
            "align_self": null,
            "height": null,
            "min_height": null,
            "padding": null,
            "grid_auto_rows": null,
            "grid_gap": null,
            "max_width": null,
            "order": null,
            "_view_module_version": "1.2.0",
            "grid_template_areas": null,
            "object_position": null,
            "object_fit": null,
            "grid_auto_columns": null,
            "margin": null,
            "display": null,
            "left": null
          }
        },
        "e46cf9525f48406193fd8ee9010cc2b2": {
          "model_module": "@jupyter-widgets/controls",
          "model_name": "HTMLModel",
          "model_module_version": "1.5.0",
          "state": {
            "_view_name": "HTMLView",
            "style": "IPY_MODEL_f5dab04c74274c6b917d754e9171818a",
            "_dom_classes": [],
            "description": "",
            "_model_name": "HTMLModel",
            "placeholder": "​",
            "_view_module": "@jupyter-widgets/controls",
            "_model_module_version": "1.5.0",
            "value": "",
            "_view_count": null,
            "_view_module_version": "1.5.0",
            "description_tooltip": null,
            "_model_module": "@jupyter-widgets/controls",
            "layout": "IPY_MODEL_95e2455e4f32442e94e9921ea6c0d0bd"
          }
        },
        "42b820cb9e3d43af8ebfa555e98587dd": {
          "model_module": "@jupyter-widgets/controls",
          "model_name": "FloatProgressModel",
          "model_module_version": "1.5.0",
          "state": {
            "_view_name": "ProgressView",
            "style": "IPY_MODEL_e50a6b7795714969a7db872777230400",
            "_dom_classes": [],
            "description": "",
            "_model_name": "FloatProgressModel",
            "bar_style": "success",
            "max": 1648877,
            "_view_module": "@jupyter-widgets/controls",
            "_model_module_version": "1.5.0",
            "value": 1648877,
            "_view_count": null,
            "_view_module_version": "1.5.0",
            "orientation": "horizontal",
            "min": 0,
            "description_tooltip": null,
            "_model_module": "@jupyter-widgets/controls",
            "layout": "IPY_MODEL_0c83e77e461b4d95b75a2262b357e0e7"
          }
        },
        "da5ec31d47454f3fa973d316d1c48e56": {
          "model_module": "@jupyter-widgets/controls",
          "model_name": "HTMLModel",
          "model_module_version": "1.5.0",
          "state": {
            "_view_name": "HTMLView",
            "style": "IPY_MODEL_a368fa3414b74e5eb8cbd0e41bdcf55f",
            "_dom_classes": [],
            "description": "",
            "_model_name": "HTMLModel",
            "placeholder": "​",
            "_view_module": "@jupyter-widgets/controls",
            "_model_module_version": "1.5.0",
            "value": " 1649664/? [00:00&lt;00:00, 20160816.77it/s]",
            "_view_count": null,
            "_view_module_version": "1.5.0",
            "description_tooltip": null,
            "_model_module": "@jupyter-widgets/controls",
            "layout": "IPY_MODEL_6d0cdae900154d54be3afcf7fdcd5111"
          }
        },
        "f5dab04c74274c6b917d754e9171818a": {
          "model_module": "@jupyter-widgets/controls",
          "model_name": "DescriptionStyleModel",
          "model_module_version": "1.5.0",
          "state": {
            "_view_name": "StyleView",
            "_model_name": "DescriptionStyleModel",
            "description_width": "",
            "_view_module": "@jupyter-widgets/base",
            "_model_module_version": "1.5.0",
            "_view_count": null,
            "_view_module_version": "1.2.0",
            "_model_module": "@jupyter-widgets/controls"
          }
        },
        "95e2455e4f32442e94e9921ea6c0d0bd": {
          "model_module": "@jupyter-widgets/base",
          "model_name": "LayoutModel",
          "model_module_version": "1.2.0",
          "state": {
            "_view_name": "LayoutView",
            "grid_template_rows": null,
            "right": null,
            "justify_content": null,
            "_view_module": "@jupyter-widgets/base",
            "overflow": null,
            "_model_module_version": "1.2.0",
            "_view_count": null,
            "flex_flow": null,
            "width": null,
            "min_width": null,
            "border": null,
            "align_items": null,
            "bottom": null,
            "_model_module": "@jupyter-widgets/base",
            "top": null,
            "grid_column": null,
            "overflow_y": null,
            "overflow_x": null,
            "grid_auto_flow": null,
            "grid_area": null,
            "grid_template_columns": null,
            "flex": null,
            "_model_name": "LayoutModel",
            "justify_items": null,
            "grid_row": null,
            "max_height": null,
            "align_content": null,
            "visibility": null,
            "align_self": null,
            "height": null,
            "min_height": null,
            "padding": null,
            "grid_auto_rows": null,
            "grid_gap": null,
            "max_width": null,
            "order": null,
            "_view_module_version": "1.2.0",
            "grid_template_areas": null,
            "object_position": null,
            "object_fit": null,
            "grid_auto_columns": null,
            "margin": null,
            "display": null,
            "left": null
          }
        },
        "e50a6b7795714969a7db872777230400": {
          "model_module": "@jupyter-widgets/controls",
          "model_name": "ProgressStyleModel",
          "model_module_version": "1.5.0",
          "state": {
            "_view_name": "StyleView",
            "_model_name": "ProgressStyleModel",
            "description_width": "",
            "_view_module": "@jupyter-widgets/base",
            "_model_module_version": "1.5.0",
            "_view_count": null,
            "_view_module_version": "1.2.0",
            "bar_color": null,
            "_model_module": "@jupyter-widgets/controls"
          }
        },
        "0c83e77e461b4d95b75a2262b357e0e7": {
          "model_module": "@jupyter-widgets/base",
          "model_name": "LayoutModel",
          "model_module_version": "1.2.0",
          "state": {
            "_view_name": "LayoutView",
            "grid_template_rows": null,
            "right": null,
            "justify_content": null,
            "_view_module": "@jupyter-widgets/base",
            "overflow": null,
            "_model_module_version": "1.2.0",
            "_view_count": null,
            "flex_flow": null,
            "width": null,
            "min_width": null,
            "border": null,
            "align_items": null,
            "bottom": null,
            "_model_module": "@jupyter-widgets/base",
            "top": null,
            "grid_column": null,
            "overflow_y": null,
            "overflow_x": null,
            "grid_auto_flow": null,
            "grid_area": null,
            "grid_template_columns": null,
            "flex": null,
            "_model_name": "LayoutModel",
            "justify_items": null,
            "grid_row": null,
            "max_height": null,
            "align_content": null,
            "visibility": null,
            "align_self": null,
            "height": null,
            "min_height": null,
            "padding": null,
            "grid_auto_rows": null,
            "grid_gap": null,
            "max_width": null,
            "order": null,
            "_view_module_version": "1.2.0",
            "grid_template_areas": null,
            "object_position": null,
            "object_fit": null,
            "grid_auto_columns": null,
            "margin": null,
            "display": null,
            "left": null
          }
        },
        "a368fa3414b74e5eb8cbd0e41bdcf55f": {
          "model_module": "@jupyter-widgets/controls",
          "model_name": "DescriptionStyleModel",
          "model_module_version": "1.5.0",
          "state": {
            "_view_name": "StyleView",
            "_model_name": "DescriptionStyleModel",
            "description_width": "",
            "_view_module": "@jupyter-widgets/base",
            "_model_module_version": "1.5.0",
            "_view_count": null,
            "_view_module_version": "1.2.0",
            "_model_module": "@jupyter-widgets/controls"
          }
        },
        "6d0cdae900154d54be3afcf7fdcd5111": {
          "model_module": "@jupyter-widgets/base",
          "model_name": "LayoutModel",
          "model_module_version": "1.2.0",
          "state": {
            "_view_name": "LayoutView",
            "grid_template_rows": null,
            "right": null,
            "justify_content": null,
            "_view_module": "@jupyter-widgets/base",
            "overflow": null,
            "_model_module_version": "1.2.0",
            "_view_count": null,
            "flex_flow": null,
            "width": null,
            "min_width": null,
            "border": null,
            "align_items": null,
            "bottom": null,
            "_model_module": "@jupyter-widgets/base",
            "top": null,
            "grid_column": null,
            "overflow_y": null,
            "overflow_x": null,
            "grid_auto_flow": null,
            "grid_area": null,
            "grid_template_columns": null,
            "flex": null,
            "_model_name": "LayoutModel",
            "justify_items": null,
            "grid_row": null,
            "max_height": null,
            "align_content": null,
            "visibility": null,
            "align_self": null,
            "height": null,
            "min_height": null,
            "padding": null,
            "grid_auto_rows": null,
            "grid_gap": null,
            "max_width": null,
            "order": null,
            "_view_module_version": "1.2.0",
            "grid_template_areas": null,
            "object_position": null,
            "object_fit": null,
            "grid_auto_columns": null,
            "margin": null,
            "display": null,
            "left": null
          }
        },
        "d2b23324d76f4359bae78560a303a3e2": {
          "model_module": "@jupyter-widgets/controls",
          "model_name": "HBoxModel",
          "model_module_version": "1.5.0",
          "state": {
            "_view_name": "HBoxView",
            "_dom_classes": [],
            "_model_name": "HBoxModel",
            "_view_module": "@jupyter-widgets/controls",
            "_model_module_version": "1.5.0",
            "_view_count": null,
            "_view_module_version": "1.5.0",
            "box_style": "",
            "layout": "IPY_MODEL_6df2e010846d456e9910fbfa5a78c01a",
            "_model_module": "@jupyter-widgets/controls",
            "children": [
              "IPY_MODEL_116073378ec54bf0a37986891c672814",
              "IPY_MODEL_d38680a727754603a843cd85f6c2c2b0",
              "IPY_MODEL_d44dbf31dc4a479e87aa3eb6726a8527"
            ]
          }
        },
        "6df2e010846d456e9910fbfa5a78c01a": {
          "model_module": "@jupyter-widgets/base",
          "model_name": "LayoutModel",
          "model_module_version": "1.2.0",
          "state": {
            "_view_name": "LayoutView",
            "grid_template_rows": null,
            "right": null,
            "justify_content": null,
            "_view_module": "@jupyter-widgets/base",
            "overflow": null,
            "_model_module_version": "1.2.0",
            "_view_count": null,
            "flex_flow": null,
            "width": null,
            "min_width": null,
            "border": null,
            "align_items": null,
            "bottom": null,
            "_model_module": "@jupyter-widgets/base",
            "top": null,
            "grid_column": null,
            "overflow_y": null,
            "overflow_x": null,
            "grid_auto_flow": null,
            "grid_area": null,
            "grid_template_columns": null,
            "flex": null,
            "_model_name": "LayoutModel",
            "justify_items": null,
            "grid_row": null,
            "max_height": null,
            "align_content": null,
            "visibility": null,
            "align_self": null,
            "height": null,
            "min_height": null,
            "padding": null,
            "grid_auto_rows": null,
            "grid_gap": null,
            "max_width": null,
            "order": null,
            "_view_module_version": "1.2.0",
            "grid_template_areas": null,
            "object_position": null,
            "object_fit": null,
            "grid_auto_columns": null,
            "margin": null,
            "display": null,
            "left": null
          }
        },
        "116073378ec54bf0a37986891c672814": {
          "model_module": "@jupyter-widgets/controls",
          "model_name": "HTMLModel",
          "model_module_version": "1.5.0",
          "state": {
            "_view_name": "HTMLView",
            "style": "IPY_MODEL_01e730476dd9419eb23a1eb53441de9c",
            "_dom_classes": [],
            "description": "",
            "_model_name": "HTMLModel",
            "placeholder": "​",
            "_view_module": "@jupyter-widgets/controls",
            "_model_module_version": "1.5.0",
            "value": "",
            "_view_count": null,
            "_view_module_version": "1.5.0",
            "description_tooltip": null,
            "_model_module": "@jupyter-widgets/controls",
            "layout": "IPY_MODEL_42fd5ed977f24b17817d22a69936a13e"
          }
        },
        "d38680a727754603a843cd85f6c2c2b0": {
          "model_module": "@jupyter-widgets/controls",
          "model_name": "FloatProgressModel",
          "model_module_version": "1.5.0",
          "state": {
            "_view_name": "ProgressView",
            "style": "IPY_MODEL_cec0c968dcf142b3aec551deb70b7abd",
            "_dom_classes": [],
            "description": "",
            "_model_name": "FloatProgressModel",
            "bar_style": "success",
            "max": 4542,
            "_view_module": "@jupyter-widgets/controls",
            "_model_module_version": "1.5.0",
            "value": 4542,
            "_view_count": null,
            "_view_module_version": "1.5.0",
            "orientation": "horizontal",
            "min": 0,
            "description_tooltip": null,
            "_model_module": "@jupyter-widgets/controls",
            "layout": "IPY_MODEL_f1621da4b4a2478a9235c7675e9c16e7"
          }
        },
        "d44dbf31dc4a479e87aa3eb6726a8527": {
          "model_module": "@jupyter-widgets/controls",
          "model_name": "HTMLModel",
          "model_module_version": "1.5.0",
          "state": {
            "_view_name": "HTMLView",
            "style": "IPY_MODEL_d127357b608d4200bb891c0ca9d89306",
            "_dom_classes": [],
            "description": "",
            "_model_name": "HTMLModel",
            "placeholder": "​",
            "_view_module": "@jupyter-widgets/controls",
            "_model_module_version": "1.5.0",
            "value": " 5120/? [00:00&lt;00:00, 139571.15it/s]",
            "_view_count": null,
            "_view_module_version": "1.5.0",
            "description_tooltip": null,
            "_model_module": "@jupyter-widgets/controls",
            "layout": "IPY_MODEL_c5624e31a9a341b895111aa08bc628a3"
          }
        },
        "01e730476dd9419eb23a1eb53441de9c": {
          "model_module": "@jupyter-widgets/controls",
          "model_name": "DescriptionStyleModel",
          "model_module_version": "1.5.0",
          "state": {
            "_view_name": "StyleView",
            "_model_name": "DescriptionStyleModel",
            "description_width": "",
            "_view_module": "@jupyter-widgets/base",
            "_model_module_version": "1.5.0",
            "_view_count": null,
            "_view_module_version": "1.2.0",
            "_model_module": "@jupyter-widgets/controls"
          }
        },
        "42fd5ed977f24b17817d22a69936a13e": {
          "model_module": "@jupyter-widgets/base",
          "model_name": "LayoutModel",
          "model_module_version": "1.2.0",
          "state": {
            "_view_name": "LayoutView",
            "grid_template_rows": null,
            "right": null,
            "justify_content": null,
            "_view_module": "@jupyter-widgets/base",
            "overflow": null,
            "_model_module_version": "1.2.0",
            "_view_count": null,
            "flex_flow": null,
            "width": null,
            "min_width": null,
            "border": null,
            "align_items": null,
            "bottom": null,
            "_model_module": "@jupyter-widgets/base",
            "top": null,
            "grid_column": null,
            "overflow_y": null,
            "overflow_x": null,
            "grid_auto_flow": null,
            "grid_area": null,
            "grid_template_columns": null,
            "flex": null,
            "_model_name": "LayoutModel",
            "justify_items": null,
            "grid_row": null,
            "max_height": null,
            "align_content": null,
            "visibility": null,
            "align_self": null,
            "height": null,
            "min_height": null,
            "padding": null,
            "grid_auto_rows": null,
            "grid_gap": null,
            "max_width": null,
            "order": null,
            "_view_module_version": "1.2.0",
            "grid_template_areas": null,
            "object_position": null,
            "object_fit": null,
            "grid_auto_columns": null,
            "margin": null,
            "display": null,
            "left": null
          }
        },
        "cec0c968dcf142b3aec551deb70b7abd": {
          "model_module": "@jupyter-widgets/controls",
          "model_name": "ProgressStyleModel",
          "model_module_version": "1.5.0",
          "state": {
            "_view_name": "StyleView",
            "_model_name": "ProgressStyleModel",
            "description_width": "",
            "_view_module": "@jupyter-widgets/base",
            "_model_module_version": "1.5.0",
            "_view_count": null,
            "_view_module_version": "1.2.0",
            "bar_color": null,
            "_model_module": "@jupyter-widgets/controls"
          }
        },
        "f1621da4b4a2478a9235c7675e9c16e7": {
          "model_module": "@jupyter-widgets/base",
          "model_name": "LayoutModel",
          "model_module_version": "1.2.0",
          "state": {
            "_view_name": "LayoutView",
            "grid_template_rows": null,
            "right": null,
            "justify_content": null,
            "_view_module": "@jupyter-widgets/base",
            "overflow": null,
            "_model_module_version": "1.2.0",
            "_view_count": null,
            "flex_flow": null,
            "width": null,
            "min_width": null,
            "border": null,
            "align_items": null,
            "bottom": null,
            "_model_module": "@jupyter-widgets/base",
            "top": null,
            "grid_column": null,
            "overflow_y": null,
            "overflow_x": null,
            "grid_auto_flow": null,
            "grid_area": null,
            "grid_template_columns": null,
            "flex": null,
            "_model_name": "LayoutModel",
            "justify_items": null,
            "grid_row": null,
            "max_height": null,
            "align_content": null,
            "visibility": null,
            "align_self": null,
            "height": null,
            "min_height": null,
            "padding": null,
            "grid_auto_rows": null,
            "grid_gap": null,
            "max_width": null,
            "order": null,
            "_view_module_version": "1.2.0",
            "grid_template_areas": null,
            "object_position": null,
            "object_fit": null,
            "grid_auto_columns": null,
            "margin": null,
            "display": null,
            "left": null
          }
        },
        "d127357b608d4200bb891c0ca9d89306": {
          "model_module": "@jupyter-widgets/controls",
          "model_name": "DescriptionStyleModel",
          "model_module_version": "1.5.0",
          "state": {
            "_view_name": "StyleView",
            "_model_name": "DescriptionStyleModel",
            "description_width": "",
            "_view_module": "@jupyter-widgets/base",
            "_model_module_version": "1.5.0",
            "_view_count": null,
            "_view_module_version": "1.2.0",
            "_model_module": "@jupyter-widgets/controls"
          }
        },
        "c5624e31a9a341b895111aa08bc628a3": {
          "model_module": "@jupyter-widgets/base",
          "model_name": "LayoutModel",
          "model_module_version": "1.2.0",
          "state": {
            "_view_name": "LayoutView",
            "grid_template_rows": null,
            "right": null,
            "justify_content": null,
            "_view_module": "@jupyter-widgets/base",
            "overflow": null,
            "_model_module_version": "1.2.0",
            "_view_count": null,
            "flex_flow": null,
            "width": null,
            "min_width": null,
            "border": null,
            "align_items": null,
            "bottom": null,
            "_model_module": "@jupyter-widgets/base",
            "top": null,
            "grid_column": null,
            "overflow_y": null,
            "overflow_x": null,
            "grid_auto_flow": null,
            "grid_area": null,
            "grid_template_columns": null,
            "flex": null,
            "_model_name": "LayoutModel",
            "justify_items": null,
            "grid_row": null,
            "max_height": null,
            "align_content": null,
            "visibility": null,
            "align_self": null,
            "height": null,
            "min_height": null,
            "padding": null,
            "grid_auto_rows": null,
            "grid_gap": null,
            "max_width": null,
            "order": null,
            "_view_module_version": "1.2.0",
            "grid_template_areas": null,
            "object_position": null,
            "object_fit": null,
            "grid_auto_columns": null,
            "margin": null,
            "display": null,
            "left": null
          }
        }
      }
    }
  },
  "cells": [
    {
      "cell_type": "markdown",
      "metadata": {
        "id": "view-in-github",
        "colab_type": "text"
      },
      "source": [
        "<a href=\"https://colab.research.google.com/github/Jyoti-S-Shukla/Deep-learning-models/blob/main/Image%20classification%20using%20CNN.ipynb\" target=\"_parent\"><img src=\"https://colab.research.google.com/assets/colab-badge.svg\" alt=\"Open In Colab\"/></a>"
      ]
    },
    {
      "cell_type": "markdown",
      "source": [
        "# Image Classification using Convolutional Neural Networks \n",
        "\n",
        "\n",
        "  "
      ],
      "metadata": {
        "id": "tonLnH1sF3Zd"
      }
    },
    {
      "cell_type": "markdown",
      "source": [
        "#**Problem 1** : Demonstrate Image Classification using CNNs on MNIST Fashion Dataset \n",
        "\n",
        "Steps : \n",
        "\n",
        "1. Download the MNIST fashion dataset (Available on Kaggle), there are 60,000 examples in the training set spanning all the 10 classes, Take a subset of this (around 1000 examples from each class) and make sure to have a balanced dataset, follow the same procedure for the test set (Maintain a 90:10 split between Train and Test set). Create a proper analysis table of the dataset using histogram plots.\n",
        "\n",
        "2. Design a convolutional neural network using appropriate layers (Feel free to experiment around this) using any of the Frameworks (Keras/Pytorch/Tensorflow).\n",
        "\n",
        "3. Consider suitable evaluation metrics and use plots as well as confusion matrix to highlight the accuracy, precision, recall and F1 score on both train and test set.\n",
        "\n",
        "4. If you observe degradation in test accuracy make suitable changes to the network to encounter the problem.\n",
        "\n",
        "**Note** : \n",
        "  1. There are no restrications on the usage Libraries as well as Frameworks.\n",
        "  \n",
        "  2. In this Lab, the emphasis will be more on your presentation rather than the solution, so make sure to include appropriate plots and tables to highlight your observations.\n",
        "\n",
        "  3. You can also perform the experiment on a different dataset of Image classification as well but make sure to use balanced data."
      ],
      "metadata": {
        "id": "EzupwyYXGXaS"
      }
    },
    {
      "cell_type": "markdown",
      "source": [
        "##Write down the Objectives, Hypothesis and Experimental description for the above problem\n"
      ],
      "metadata": {
        "id": "y1ysdhlqJpC8"
      }
    },
    {
      "cell_type": "markdown",
      "source": [
        "**Objective:** To implement classification of MNIST dataset using CNN.\n",
        "\n",
        "**Hypothesis:** It should give good accuracy and classification results with good metric scores.\n",
        "\n",
        "**Experimental Description:** \n",
        "\n",
        "\n",
        "1.   Loading and preprocessing of datset to form a balanced dataset\n",
        "2.   Applying different models of CNN using different libraries and check the output. \n",
        "3.   Calculate the training accuracy and loss.\n",
        "\n"
      ],
      "metadata": {
        "id": "gOubMyAxJqBM"
      }
    },
    {
      "cell_type": "markdown",
      "source": [
        "# **CNN model**\n",
        "\n",
        "A Convolutional Neural Network (ConvNet/CNN) is a Deep Learning algorithm which can take in an input image, assign importance (learnable weights and biases) to various aspects/objects in the image and be able to differentiate one from the other.\n",
        "\n",
        "Sequential is the easiest way to build a model in Keras. It allows you to build a model layer by layer.\n",
        "\n",
        "![image.png](data:image/png;base64,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)"
      ],
      "metadata": {
        "id": "743jQyoKr9nG"
      }
    },
    {
      "cell_type": "markdown",
      "source": [
        "## Programming : \n",
        "  Please write a program to demonstrate the same"
      ],
      "metadata": {
        "id": "9Gkw2UMGJqW1"
      }
    },
    {
      "cell_type": "code",
      "execution_count": null,
      "metadata": {
        "id": "Wl6HYGpMDpr3"
      },
      "outputs": [],
      "source": [
        "## Write your code here\n",
        "\n",
        "import numpy as np\n",
        "import keras\n",
        "from keras.datasets import mnist\n",
        "from keras.models import Model\n",
        "from keras.layers import Dense, Input\n",
        "from keras.layers import Conv2D, MaxPooling2D, Dropout, Flatten\n",
        "from keras import backend as k\n",
        "import tensorflow"
      ]
    },
    {
      "cell_type": "code",
      "source": [
        "(x_train, y_train), (x_test, y_test) = mnist.load_data()\n",
        "print(\"\\n train shape:\", x_train.shape)\n",
        "print(\"\\n test shape:\", x_test.shape)"
      ],
      "metadata": {
        "colab": {
          "base_uri": "https://localhost:8080/"
        },
        "id": "G-MiKfwUUT73",
        "outputId": "b580bc18-b23b-46a1-e59d-55d66a6910fb"
      },
      "execution_count": null,
      "outputs": [
        {
          "output_type": "stream",
          "name": "stdout",
          "text": [
            "Downloading data from https://storage.googleapis.com/tensorflow/tf-keras-datasets/mnist.npz\n",
            "11493376/11490434 [==============================] - 0s 0us/step\n",
            "11501568/11490434 [==============================] - 0s 0us/step\n",
            "\n",
            " train shape: (60000, 28, 28)\n",
            "\n",
            " test shape: (10000, 28, 28)\n"
          ]
        }
      ]
    },
    {
      "cell_type": "code",
      "source": [
        "len(x_test)"
      ],
      "metadata": {
        "colab": {
          "base_uri": "https://localhost:8080/"
        },
        "id": "h9i_DQyFD_WT",
        "outputId": "50cef593-80b0-4b1a-d67b-dc9f2e9eaa96"
      },
      "execution_count": null,
      "outputs": [
        {
          "output_type": "execute_result",
          "data": {
            "text/plain": [
              "10000"
            ]
          },
          "metadata": {},
          "execution_count": 3
        }
      ]
    },
    {
      "cell_type": "code",
      "source": [
        "train_data = []\n",
        "train_label = []\n",
        "count = 0\n",
        "for i in range(len(x_train)):\n",
        "  if y_train[i]== 0:\n",
        "    train_data.append(x_train[i])\n",
        "    train_label.append(y_train[i])\n",
        "    count+=1\n",
        "    if count == 1000:\n",
        "      break\n",
        "count = 0\n",
        "for i in range(len(x_train)):\n",
        "  if y_train[i]== 1:\n",
        "    train_data.append(x_train[i])\n",
        "    train_label.append(y_train[i])\n",
        "    count+=1\n",
        "    if count == 1000:\n",
        "      break\n",
        "\n",
        "count = 0\n",
        "for i in range(len(x_train)):\n",
        "  if y_train[i]== 2:\n",
        "    train_data.append(x_train[i])\n",
        "    train_label.append(y_train[i])\n",
        "    count+=1\n",
        "    if count == 1000:\n",
        "      break\n",
        "\n",
        "count = 0\n",
        "for i in range(len(x_train)):\n",
        "  if y_train[i]== 3:\n",
        "    train_data.append(x_train[i])\n",
        "    train_label.append(y_train[i])\n",
        "    count+=1\n",
        "    if count == 1000:\n",
        "      break\n",
        "\n",
        "count = 0\n",
        "for i in range(len(x_train)):\n",
        "  if y_train[i]== 4:\n",
        "    train_data.append(x_train[i])\n",
        "    train_label.append(y_train[i])\n",
        "    count+=1\n",
        "    if count == 1000:\n",
        "      break\n",
        "\n",
        "count = 0\n",
        "for i in range(len(x_train)):\n",
        "  if y_train[i]== 5:\n",
        "    train_data.append(x_train[i])\n",
        "    train_label.append(y_train[i])\n",
        "    count+=1\n",
        "    if count == 1000:\n",
        "      break\n",
        "\n",
        "count = 0\n",
        "for i in range(len(x_train)):\n",
        "  if y_train[i]== 6:\n",
        "    train_data.append(x_train[i])\n",
        "    train_label.append(y_train[i])\n",
        "    count+=1\n",
        "    if count == 1000:\n",
        "      break\n",
        "\n",
        "count = 0\n",
        "for i in range(len(x_train)):\n",
        "  if y_train[i]== 7:\n",
        "    train_data.append(x_train[i])\n",
        "    train_label.append(y_train[i])\n",
        "    count+=1\n",
        "    if count == 1000:\n",
        "      break      \n",
        "\n",
        "count = 0\n",
        "for i in range(len(x_train)):\n",
        "  if y_train[i]== 8:\n",
        "    train_data.append(x_train[i])\n",
        "    train_label.append(y_train[i])\n",
        "    count+=1\n",
        "    if count == 1000:\n",
        "      break  \n",
        "\n",
        "count = 0\n",
        "for i in range(len(x_train)):\n",
        "  if y_train[i]== 9:\n",
        "    train_data.append(x_train[i])\n",
        "    train_label.append(y_train[i])\n",
        "    count+=1\n",
        "    if count == 1000:\n",
        "      break\n",
        "\n",
        "len(train_label)  "
      ],
      "metadata": {
        "colab": {
          "base_uri": "https://localhost:8080/"
        },
        "id": "tcnDml2TC9Jj",
        "outputId": "7b27c690-f0ac-42b3-b82d-43d9115bf796"
      },
      "execution_count": null,
      "outputs": [
        {
          "output_type": "execute_result",
          "data": {
            "text/plain": [
              "10000"
            ]
          },
          "metadata": {},
          "execution_count": 3
        }
      ]
    },
    {
      "cell_type": "code",
      "source": [
        "test_data = []\n",
        "test_label = []\n",
        "count = 0\n",
        "for i in range(len(x_test)):\n",
        "  if y_test[i]== 0:\n",
        "    test_data.append(x_test[i])\n",
        "    test_label.append(y_test[i])\n",
        "    count+=1\n",
        "    if count == 10:\n",
        "      break\n",
        "count = 0\n",
        "for i in range(len(x_test)):\n",
        "  if y_test[i]== 1:\n",
        "    test_data.append(x_test[i])\n",
        "    test_label.append(y_test[i])\n",
        "    count+=1\n",
        "    if count == 10:\n",
        "      break\n",
        "\n",
        "count = 0\n",
        "for i in range(len(x_test)):\n",
        "  if y_test[i]== 2:\n",
        "    test_data.append(x_test[i])\n",
        "    test_label.append(y_test[i])\n",
        "    count+=1\n",
        "    if count == 10:\n",
        "      break\n",
        "\n",
        "count = 0\n",
        "for i in range(len(x_test)):\n",
        "  if y_test[i]== 3:\n",
        "    test_data.append(x_test[i])\n",
        "    test_label.append(y_test[i])\n",
        "    count+=1\n",
        "    if count == 10:\n",
        "      break\n",
        "\n",
        "count = 0\n",
        "for i in range(len(x_test)):\n",
        "  if y_test[i]== 4:\n",
        "    test_data.append(x_test[i])\n",
        "    test_label.append(y_test[i])\n",
        "    count+=1\n",
        "    if count == 10:\n",
        "      break\n",
        "\n",
        "count = 0\n",
        "for i in range(len(x_test)):\n",
        "  if y_test[i]== 5:\n",
        "    test_data.append(x_test[i])\n",
        "    test_label.append(y_test[i])\n",
        "    count+=1\n",
        "    if count == 10:\n",
        "      break\n",
        "\n",
        "count = 0\n",
        "for i in range(len(x_test)):\n",
        "  if y_test[i]== 6:\n",
        "    test_data.append(x_test[i])\n",
        "    test_label.append(y_test[i])\n",
        "    count+=1\n",
        "    if count == 10:\n",
        "      break\n",
        "\n",
        "count = 0\n",
        "for i in range(len(x_test)):\n",
        "  if y_test[i]== 7:\n",
        "    test_data.append(x_test[i])\n",
        "    test_label.append(y_test[i])\n",
        "    count+=1\n",
        "    if count == 10:\n",
        "      break   \n",
        "\n",
        "count = 0\n",
        "for i in range(len(x_test)):\n",
        "  if y_test[i]== 8:\n",
        "    test_data.append(x_test[i])\n",
        "    test_label.append(y_test[i])\n",
        "    count+=1\n",
        "    if count == 10:\n",
        "      break\n",
        "\n",
        "count = 0\n",
        "for i in range(len(x_test)):\n",
        "  if y_test[i]== 9:\n",
        "    test_data.append(x_test[i])\n",
        "    test_label.append(y_test[i])\n",
        "    count+=1\n",
        "    if count == 10:\n",
        "      break\n",
        "\n",
        "len(test_label)  "
      ],
      "metadata": {
        "colab": {
          "base_uri": "https://localhost:8080/"
        },
        "id": "oF5136ZQJcd_",
        "outputId": "e37f6c6a-392d-481c-bc83-7fb326d6ece6"
      },
      "execution_count": null,
      "outputs": [
        {
          "output_type": "execute_result",
          "data": {
            "text/plain": [
              "100"
            ]
          },
          "metadata": {},
          "execution_count": 4
        }
      ]
    },
    {
      "cell_type": "code",
      "source": [
        "x_train = np.asarray(train_data)\n",
        "x_test = np.asarray(test_data)\n",
        "y_train = np.asarray(train_label)\n",
        "y_test = np.asarray(test_label)\n",
        "y = np.asarray(test_label)"
      ],
      "metadata": {
        "id": "FnkdTFfjKv9A"
      },
      "execution_count": null,
      "outputs": []
    },
    {
      "cell_type": "code",
      "source": [
        "import matplotlib.pyplot as plt\n",
        "plt.hist(train_label,10)"
      ],
      "metadata": {
        "colab": {
          "base_uri": "https://localhost:8080/",
          "height": 334
        },
        "id": "QvR0KW5vYmDt",
        "outputId": "1606bf16-1c0d-49eb-87dc-4c1c04571c4b"
      },
      "execution_count": null,
      "outputs": [
        {
          "output_type": "execute_result",
          "data": {
            "text/plain": [
              "(array([1000., 1000., 1000., 1000., 1000., 1000., 1000., 1000., 1000.,\n",
              "        1000.]),\n",
              " array([0. , 0.9, 1.8, 2.7, 3.6, 4.5, 5.4, 6.3, 7.2, 8.1, 9. ]),\n",
              " <a list of 10 Patch objects>)"
            ]
          },
          "metadata": {},
          "execution_count": 6
        },
        {
          "output_type": "display_data",
          "data": {
            "image/png": "[encoded data removed]",
            "text/plain": [
              "<Figure size 432x288 with 1 Axes>"
            ]
          },
          "metadata": {
            "needs_background": "light"
          }
        }
      ]
    },
    {
      "cell_type": "code",
      "source": [
        "plt.hist(test_label)"
      ],
      "metadata": {
        "colab": {
          "base_uri": "https://localhost:8080/",
          "height": 317
        },
        "id": "3ANLEOR8Z3xv",
        "outputId": "a7949c05-f9e1-4f87-d95e-7f84e5e5ccab"
      },
      "execution_count": null,
      "outputs": [
        {
          "output_type": "execute_result",
          "data": {
            "text/plain": [
              "(array([10., 10., 10., 10., 10., 10., 10., 10., 10., 10.]),\n",
              " array([0. , 0.9, 1.8, 2.7, 3.6, 4.5, 5.4, 6.3, 7.2, 8.1, 9. ]),\n",
              " <a list of 10 Patch objects>)"
            ]
          },
          "metadata": {},
          "execution_count": 7
        },
        {
          "output_type": "display_data",
          "data": {
            "image/png": "[encoded data removed]",
            "text/plain": [
              "<Figure size 432x288 with 1 Axes>"
            ]
          },
          "metadata": {
            "needs_background": "light"
          }
        }
      ]
    },
    {
      "cell_type": "markdown",
      "source": [
        "# **Through Tensorflow - Keras**"
      ],
      "metadata": {
        "id": "L1fb_c5V7AI1"
      }
    },
    {
      "cell_type": "code",
      "source": [
        "#checking if channels first \n",
        "img_rows, img_cols=28, 28\n",
        " \n",
        "if k.image_data_format() == 'channels_first':\n",
        "   x_train = x_train.reshape(x_train.shape[0], 1, img_rows, img_cols)\n",
        "   x_test = x_test.reshape(x_test.shape[0], 1, img_rows, img_cols)\n",
        "   inpx = (1, img_rows, img_cols)\n",
        " \n",
        "else:\n",
        "   x_train = x_train.reshape(x_train.shape[0], img_rows, img_cols, 1)\n",
        "   x_test = x_test.reshape(x_test.shape[0], img_rows, img_cols, 1)\n",
        "   inpx = (img_rows, img_cols, 1)\n",
        " \n",
        "x_train = x_train.astype('float32')\n",
        "x_test = x_test.astype('float32')\n",
        "x_train /= 255\n",
        "x_test /= 255"
      ],
      "metadata": {
        "id": "CEf_TgCIUozX"
      },
      "execution_count": null,
      "outputs": []
    },
    {
      "cell_type": "code",
      "source": [
        "\n",
        "y_train = tensorflow.keras.utils.to_categorical(y_train)\n",
        "y_test = tensorflow.keras.utils.to_categorical(y_test)"
      ],
      "metadata": {
        "id": "6F5e-H4eU5dJ"
      },
      "execution_count": null,
      "outputs": []
    },
    {
      "cell_type": "code",
      "source": [
        "inpx = (img_rows, img_cols, 1)\n",
        "inpx = Input(shape=inpx)\n",
        "layer1 = Conv2D(32, kernel_size=(3, 3), activation='relu')(inpx)\n",
        "layer2 = Conv2D(64, (3, 3), activation='relu')(layer1)\n",
        "layer3 = MaxPooling2D(pool_size=(3, 3))(layer2)\n",
        "#layer4 = Dropout(0.5)(layer3)\n",
        "layer5 = Flatten()(layer3)\n",
        "layer6 = Dense(32, activation='sigmoid')(layer5)\n",
        "layer7 = Dense(10, activation='softmax')(layer6)"
      ],
      "metadata": {
        "id": "JO9GHcpSVMfO"
      },
      "execution_count": null,
      "outputs": []
    },
    {
      "cell_type": "code",
      "source": [
        "from tensorflow.keras.callbacks import Callback \n",
        "import tensorflow as tf\n",
        "from sklearn.metrics import classification_report\n",
        "model = Model([inpx], layer7)\n",
        "model.compile(optimizer=tensorflow.keras.optimizers.Adam(),\n",
        "              loss=keras.losses.categorical_crossentropy,\n",
        "            metrics=['accuracy'])\n",
        "class MetricsCallback(Callback):\n",
        "    def __init__(self, test_data, y_true):\n",
        "        self.y_true = y_true\n",
        "        self.test_data = test_data\n",
        "\n",
        "    def on_epoch_end(self, epoch, logs=None):\n",
        "         y_pred = self.model.predict(self.test_data)\n",
        "         y_pred = tf.argmax(y_pred,axis=1)\n",
        "         report_dictionary = classification_report(self.y_true, y_pred, output_dict = True)\n",
        "         print(classification_report(self.y_true,y_pred,output_dict=False)) \n",
        "\n",
        "metrics_callback = MetricsCallback(test_data=x_test, y_true=y)\n",
        "history = model.fit(x_train, y_train, validation_data = (x_test,y_test), batch_size=2, epochs=10,callbacks=[metrics_callback],verbose = 'auto')"
      ],
      "metadata": {
        "colab": {
          "base_uri": "https://localhost:8080/"
        },
        "id": "MI_kqA6KVYKT",
        "outputId": "8b7f56a7-f9fd-4150-fbab-f9d00d874232"
      },
      "execution_count": null,
      "outputs": [
        {
          "output_type": "stream",
          "name": "stdout",
          "text": [
            "Epoch 1/10\n",
            "4986/5000 [============================>.] - ETA: 0s - loss: 0.0641 - accuracy: 0.9807              precision    recall  f1-score   support\n",
            "\n",
            "           0       1.00      1.00      1.00        10\n",
            "           1       1.00      1.00      1.00        10\n",
            "           2       0.91      1.00      0.95        10\n",
            "           3       1.00      0.80      0.89        10\n",
            "           4       1.00      1.00      1.00        10\n",
            "           5       0.91      1.00      0.95        10\n",
            "           6       1.00      1.00      1.00        10\n",
            "           7       1.00      1.00      1.00        10\n",
            "           8       0.77      1.00      0.87        10\n",
            "           9       1.00      0.70      0.82        10\n",
            "\n",
            "    accuracy                           0.95       100\n",
            "   macro avg       0.96      0.95      0.95       100\n",
            "weighted avg       0.96      0.95      0.95       100\n",
            "\n",
            "5000/5000 [==============================] - 15s 3ms/step - loss: 0.0640 - accuracy: 0.9808 - val_loss: 0.1292 - val_accuracy: 0.9500\n",
            "Epoch 2/10\n",
            "4998/5000 [============================>.] - ETA: 0s - loss: 0.0450 - accuracy: 0.9875              precision    recall  f1-score   support\n",
            "\n",
            "           0       1.00      1.00      1.00        10\n",
            "           1       1.00      1.00      1.00        10\n",
            "           2       0.83      1.00      0.91        10\n",
            "           3       1.00      0.80      0.89        10\n",
            "           4       0.91      1.00      0.95        10\n",
            "           5       1.00      1.00      1.00        10\n",
            "           6       1.00      1.00      1.00        10\n",
            "           7       1.00      1.00      1.00        10\n",
            "           8       0.83      1.00      0.91        10\n",
            "           9       1.00      0.70      0.82        10\n",
            "\n",
            "    accuracy                           0.95       100\n",
            "   macro avg       0.96      0.95      0.95       100\n",
            "weighted avg       0.96      0.95      0.95       100\n",
            "\n",
            "5000/5000 [==============================] - 15s 3ms/step - loss: 0.0450 - accuracy: 0.9875 - val_loss: 0.0909 - val_accuracy: 0.9500\n",
            "Epoch 3/10\n",
            "4991/5000 [============================>.] - ETA: 0s - loss: 0.0294 - accuracy: 0.9918              precision    recall  f1-score   support\n",
            "\n",
            "           0       1.00      1.00      1.00        10\n",
            "           1       1.00      1.00      1.00        10\n",
            "           2       1.00      0.90      0.95        10\n",
            "           3       1.00      1.00      1.00        10\n",
            "           4       1.00      1.00      1.00        10\n",
            "           5       1.00      0.90      0.95        10\n",
            "           6       0.91      1.00      0.95        10\n",
            "           7       0.91      1.00      0.95        10\n",
            "           8       1.00      1.00      1.00        10\n",
            "           9       1.00      1.00      1.00        10\n",
            "\n",
            "    accuracy                           0.98       100\n",
            "   macro avg       0.98      0.98      0.98       100\n",
            "weighted avg       0.98      0.98      0.98       100\n",
            "\n",
            "5000/5000 [==============================] - 14s 3ms/step - loss: 0.0297 - accuracy: 0.9916 - val_loss: 0.0567 - val_accuracy: 0.9800\n",
            "Epoch 4/10\n",
            "4990/5000 [============================>.] - ETA: 0s - loss: 0.0235 - accuracy: 0.9937              precision    recall  f1-score   support\n",
            "\n",
            "           0       1.00      1.00      1.00        10\n",
            "           1       1.00      1.00      1.00        10\n",
            "           2       1.00      1.00      1.00        10\n",
            "           3       1.00      1.00      1.00        10\n",
            "           4       1.00      1.00      1.00        10\n",
            "           5       1.00      1.00      1.00        10\n",
            "           6       1.00      1.00      1.00        10\n",
            "           7       1.00      1.00      1.00        10\n",
            "           8       1.00      1.00      1.00        10\n",
            "           9       1.00      1.00      1.00        10\n",
            "\n",
            "    accuracy                           1.00       100\n",
            "   macro avg       1.00      1.00      1.00       100\n",
            "weighted avg       1.00      1.00      1.00       100\n",
            "\n",
            "5000/5000 [==============================] - 14s 3ms/step - loss: 0.0235 - accuracy: 0.9937 - val_loss: 0.0303 - val_accuracy: 1.0000\n",
            "Epoch 5/10\n",
            "4998/5000 [============================>.] - ETA: 0s - loss: 0.0197 - accuracy: 0.9944              precision    recall  f1-score   support\n",
            "\n",
            "           0       1.00      1.00      1.00        10\n",
            "           1       1.00      1.00      1.00        10\n",
            "           2       0.91      1.00      0.95        10\n",
            "           3       1.00      1.00      1.00        10\n",
            "           4       1.00      1.00      1.00        10\n",
            "           5       0.91      1.00      0.95        10\n",
            "           6       1.00      1.00      1.00        10\n",
            "           7       1.00      1.00      1.00        10\n",
            "           8       1.00      0.90      0.95        10\n",
            "           9       1.00      0.90      0.95        10\n",
            "\n",
            "    accuracy                           0.98       100\n",
            "   macro avg       0.98      0.98      0.98       100\n",
            "weighted avg       0.98      0.98      0.98       100\n",
            "\n",
            "5000/5000 [==============================] - 15s 3ms/step - loss: 0.0197 - accuracy: 0.9944 - val_loss: 0.0255 - val_accuracy: 0.9800\n",
            "Epoch 6/10\n",
            "4990/5000 [============================>.] - ETA: 0s - loss: 0.0133 - accuracy: 0.9957              precision    recall  f1-score   support\n",
            "\n",
            "           0       1.00      1.00      1.00        10\n",
            "           1       1.00      1.00      1.00        10\n",
            "           2       0.91      1.00      0.95        10\n",
            "           3       1.00      1.00      1.00        10\n",
            "           4       0.91      1.00      0.95        10\n",
            "           5       1.00      0.90      0.95        10\n",
            "           6       0.91      1.00      0.95        10\n",
            "           7       1.00      1.00      1.00        10\n",
            "           8       0.90      0.90      0.90        10\n",
            "           9       1.00      0.80      0.89        10\n",
            "\n",
            "    accuracy                           0.96       100\n",
            "   macro avg       0.96      0.96      0.96       100\n",
            "weighted avg       0.96      0.96      0.96       100\n",
            "\n",
            "5000/5000 [==============================] - 14s 3ms/step - loss: 0.0133 - accuracy: 0.9957 - val_loss: 0.0780 - val_accuracy: 0.9600\n",
            "Epoch 7/10\n",
            "4992/5000 [============================>.] - ETA: 0s - loss: 0.0137 - accuracy: 0.9965              precision    recall  f1-score   support\n",
            "\n",
            "           0       1.00      1.00      1.00        10\n",
            "           1       1.00      1.00      1.00        10\n",
            "           2       1.00      1.00      1.00        10\n",
            "           3       1.00      0.90      0.95        10\n",
            "           4       1.00      1.00      1.00        10\n",
            "           5       1.00      1.00      1.00        10\n",
            "           6       1.00      1.00      1.00        10\n",
            "           7       1.00      1.00      1.00        10\n",
            "           8       0.91      1.00      0.95        10\n",
            "           9       1.00      1.00      1.00        10\n",
            "\n",
            "    accuracy                           0.99       100\n",
            "   macro avg       0.99      0.99      0.99       100\n",
            "weighted avg       0.99      0.99      0.99       100\n",
            "\n",
            "5000/5000 [==============================] - 15s 3ms/step - loss: 0.0140 - accuracy: 0.9963 - val_loss: 0.0362 - val_accuracy: 0.9900\n",
            "Epoch 8/10\n",
            "4985/5000 [============================>.] - ETA: 0s - loss: 0.0096 - accuracy: 0.9975              precision    recall  f1-score   support\n",
            "\n",
            "           0       1.00      1.00      1.00        10\n",
            "           1       1.00      1.00      1.00        10\n",
            "           2       1.00      1.00      1.00        10\n",
            "           3       1.00      0.90      0.95        10\n",
            "           4       1.00      1.00      1.00        10\n",
            "           5       1.00      0.90      0.95        10\n",
            "           6       0.91      1.00      0.95        10\n",
            "           7       1.00      1.00      1.00        10\n",
            "           8       0.91      1.00      0.95        10\n",
            "           9       1.00      1.00      1.00        10\n",
            "\n",
            "    accuracy                           0.98       100\n",
            "   macro avg       0.98      0.98      0.98       100\n",
            "weighted avg       0.98      0.98      0.98       100\n",
            "\n",
            "5000/5000 [==============================] - 60s 12ms/step - loss: 0.0096 - accuracy: 0.9975 - val_loss: 0.0370 - val_accuracy: 0.9800\n",
            "Epoch 9/10\n",
            "4992/5000 [============================>.] - ETA: 0s - loss: 0.0089 - accuracy: 0.9976              precision    recall  f1-score   support\n",
            "\n",
            "           0       1.00      1.00      1.00        10\n",
            "           1       1.00      1.00      1.00        10\n",
            "           2       1.00      1.00      1.00        10\n",
            "           3       1.00      1.00      1.00        10\n",
            "           4       1.00      1.00      1.00        10\n",
            "           5       1.00      1.00      1.00        10\n",
            "           6       1.00      1.00      1.00        10\n",
            "           7       1.00      1.00      1.00        10\n",
            "           8       1.00      1.00      1.00        10\n",
            "           9       1.00      1.00      1.00        10\n",
            "\n",
            "    accuracy                           1.00       100\n",
            "   macro avg       1.00      1.00      1.00       100\n",
            "weighted avg       1.00      1.00      1.00       100\n",
            "\n",
            "5000/5000 [==============================] - 15s 3ms/step - loss: 0.0089 - accuracy: 0.9976 - val_loss: 0.0100 - val_accuracy: 1.0000\n",
            "Epoch 10/10\n",
            "4987/5000 [============================>.] - ETA: 0s - loss: 0.0081 - accuracy: 0.9978              precision    recall  f1-score   support\n",
            "\n",
            "           0       1.00      1.00      1.00        10\n",
            "           1       1.00      1.00      1.00        10\n",
            "           2       1.00      1.00      1.00        10\n",
            "           3       1.00      0.90      0.95        10\n",
            "           4       1.00      1.00      1.00        10\n",
            "           5       1.00      0.90      0.95        10\n",
            "           6       0.91      1.00      0.95        10\n",
            "           7       1.00      1.00      1.00        10\n",
            "           8       0.91      1.00      0.95        10\n",
            "           9       1.00      1.00      1.00        10\n",
            "\n",
            "    accuracy                           0.98       100\n",
            "   macro avg       0.98      0.98      0.98       100\n",
            "weighted avg       0.98      0.98      0.98       100\n",
            "\n",
            "5000/5000 [==============================] - 15s 3ms/step - loss: 0.0081 - accuracy: 0.9978 - val_loss: 0.0529 - val_accuracy: 0.9800\n"
          ]
        }
      ]
    },
    {
      "cell_type": "code",
      "source": [
        "y = np.asarray(test_label)"
      ],
      "metadata": {
        "id": "dRwdjCvmktwS"
      },
      "execution_count": null,
      "outputs": []
    },
    {
      "cell_type": "code",
      "source": [
        "print(model.summary())"
      ],
      "metadata": {
        "colab": {
          "base_uri": "https://localhost:8080/"
        },
        "id": "IHvL2ZjsqKJ-",
        "outputId": "65098352-7c98-44f4-dfc1-9fe6e778bd17"
      },
      "execution_count": null,
      "outputs": [
        {
          "output_type": "stream",
          "name": "stdout",
          "text": [
            "Model: \"model_9\"\n",
            "_________________________________________________________________\n",
            " Layer (type)                Output Shape              Param #   \n",
            "=================================================================\n",
            " input_4 (InputLayer)        [(None, 28, 28, 1)]       0         \n",
            "                                                                 \n",
            " conv2d_10 (Conv2D)          (None, 26, 26, 32)        320       \n",
            "                                                                 \n",
            " conv2d_11 (Conv2D)          (None, 24, 24, 64)        18496     \n",
            "                                                                 \n",
            " max_pooling2d_5 (MaxPooling  (None, 8, 8, 64)         0         \n",
            " 2D)                                                             \n",
            "                                                                 \n",
            " flatten_5 (Flatten)         (None, 4096)              0         \n",
            "                                                                 \n",
            " dense_10 (Dense)            (None, 32)                131104    \n",
            "                                                                 \n",
            " dense_11 (Dense)            (None, 10)                330       \n",
            "                                                                 \n",
            "=================================================================\n",
            "Total params: 150,250\n",
            "Trainable params: 150,250\n",
            "Non-trainable params: 0\n",
            "_________________________________________________________________\n",
            "None\n"
          ]
        }
      ]
    },
    {
      "cell_type": "code",
      "source": [
        "history.history.keys()"
      ],
      "metadata": {
        "colab": {
          "base_uri": "https://localhost:8080/"
        },
        "id": "sBxe-I82qis1",
        "outputId": "115c690b-43aa-4003-d6d2-93fda627ef7d"
      },
      "execution_count": null,
      "outputs": [
        {
          "output_type": "execute_result",
          "data": {
            "text/plain": [
              "dict_keys(['loss', 'accuracy', 'val_loss', 'val_accuracy'])"
            ]
          },
          "metadata": {},
          "execution_count": 76
        }
      ]
    },
    {
      "cell_type": "code",
      "source": [
        "plt.plot(history.history['loss'])\n",
        "plt.plot(history.history['accuracy'])\n",
        "plt.title('Stats for sequential CNN')\n",
        "plt.xlabel('epochs')\n",
        "plt.legend(['loss','accuracy'])\n",
        "plt.show()"
      ],
      "metadata": {
        "colab": {
          "base_uri": "https://localhost:8080/",
          "height": 295
        },
        "id": "8SH7EDBYtIb3",
        "outputId": "c059a017-b749-45c1-88ea-4d1250bb2bca"
      },
      "execution_count": null,
      "outputs": [
        {
          "output_type": "display_data",
          "data": {
            "image/png": "[encoded data removed]",
            "text/plain": [
              "<Figure size 432x288 with 1 Axes>"
            ]
          },
          "metadata": {
            "needs_background": "light"
          }
        }
      ]
    },
    {
      "cell_type": "code",
      "source": [
        "# evaluate the model\n",
        "from matplotlib import pyplot\n",
        "_, train_acc = model.evaluate(x_train, y_train, verbose=0)\n",
        "_, test_acc = model.evaluate(x_test, y_test, verbose=0)\n",
        "# plot loss during training\n",
        "pyplot.subplot(211)\n",
        "pyplot.title('Loss')\n",
        "pyplot.plot(history.history['loss'], label='train')\n",
        "pyplot.plot(history.history['val_loss'], label='test')\n",
        "pyplot.legend()\n",
        "# plot accuracy during training\n",
        "pyplot.subplot(212)\n",
        "pyplot.title('Accuracy')\n",
        "pyplot.plot(history.history['accuracy'], label='train')\n",
        "pyplot.plot(history.history['val_accuracy'], label='test')\n",
        "pyplot.legend()\n",
        "pyplot.show()"
      ],
      "metadata": {
        "colab": {
          "base_uri": "https://localhost:8080/",
          "height": 281
        },
        "id": "_d6_r0t4tz5O",
        "outputId": "23a56ab8-7518-4b38-a9c3-4f0fa4e1f89c"
      },
      "execution_count": null,
      "outputs": [
        {
          "output_type": "display_data",
          "data": {
            "image/png": "[encoded data removed]",
            "text/plain": [
              "<Figure size 432x288 with 2 Axes>"
            ]
          },
          "metadata": {
            "needs_background": "light"
          }
        }
      ]
    },
    {
      "cell_type": "code",
      "source": [
        ""
      ],
      "metadata": {
        "colab": {
          "base_uri": "https://localhost:8080/",
          "height": 35
        },
        "id": "pM1xfxmnmYUg",
        "outputId": "55935d13-a087-438c-c959-f79ecec8389b"
      },
      "execution_count": null,
      "outputs": [
        {
          "output_type": "execute_result",
          "data": {
            "application/vnd.google.colaboratory.intrinsic+json": {
              "type": "string"
            },
            "text/plain": [
              "'%r'"
            ]
          },
          "metadata": {},
          "execution_count": 80
        }
      ]
    },
    {
      "cell_type": "code",
      "source": [
        "# demonstration of calculating metrics for a neural network model using sklearn\n",
        "from sklearn.datasets import make_circles\n",
        "from sklearn.metrics import accuracy_score\n",
        "from sklearn.metrics import precision_score\n",
        "from sklearn.metrics import recall_score\n",
        "from sklearn.metrics import f1_score\n",
        "from sklearn.metrics import cohen_kappa_score\n",
        "from sklearn.metrics import roc_auc_score\n",
        "from sklearn.metrics import confusion_matrix\n",
        "from keras.models import Sequential\n",
        "from keras.layers import Dense"
      ],
      "metadata": {
        "id": "5yzWBQeL4TKN"
      },
      "execution_count": null,
      "outputs": []
    },
    {
      "cell_type": "code",
      "source": [
        "# define and fit the model\n",
        "def get_model(trainX, trainY):\n",
        "  #define model\n",
        "  model = Sequential()\n",
        "  model.add(Conv2D(32, kernel_size=(3, 3), activation='relu'))\n",
        "  model.add(Conv2D(64, kernel_size=(3, 3), activation='relu'))\n",
        "  model.add(MaxPooling2D(pool_size=(3, 3)))\n",
        "  model.add(Flatten())\n",
        "  model.add(Dense(32, activation='sigmoid'))\n",
        "  model.add(Dense(10, activation='softmax'))\n",
        "  model.compile(optimizer=tensorflow.keras.optimizers.Adam(),\n",
        "              loss=keras.losses.categorical_crossentropy,\n",
        "            metrics=['accuracy'])\n",
        "  model.fit(trainX, trainY, epochs=10, batch_size=2, verbose= 'auto')\n",
        "  return model"
      ],
      "metadata": {
        "id": "yGZzkSca5d48"
      },
      "execution_count": null,
      "outputs": []
    },
    {
      "cell_type": "code",
      "source": [
        "model_1 = get_model(x_train, y_train)"
      ],
      "metadata": {
        "colab": {
          "base_uri": "https://localhost:8080/"
        },
        "id": "QmJEzSE760Qd",
        "outputId": "6b4a6a2d-e0b7-4f8a-a58b-2fff23f63df8"
      },
      "execution_count": null,
      "outputs": [
        {
          "output_type": "stream",
          "name": "stdout",
          "text": [
            "Epoch 1/10\n",
            "5000/5000 [==============================] - 15s 3ms/step - loss: 0.3140 - accuracy: 0.9293\n",
            "Epoch 2/10\n",
            "5000/5000 [==============================] - 14s 3ms/step - loss: 0.0968 - accuracy: 0.9734\n",
            "Epoch 3/10\n",
            "5000/5000 [==============================] - 14s 3ms/step - loss: 0.0566 - accuracy: 0.9841\n",
            "Epoch 4/10\n",
            "5000/5000 [==============================] - 14s 3ms/step - loss: 0.0376 - accuracy: 0.9899\n",
            "Epoch 5/10\n",
            "5000/5000 [==============================] - 14s 3ms/step - loss: 0.0313 - accuracy: 0.9910\n",
            "Epoch 6/10\n",
            "5000/5000 [==============================] - 14s 3ms/step - loss: 0.0226 - accuracy: 0.9935\n",
            "Epoch 7/10\n",
            "5000/5000 [==============================] - 14s 3ms/step - loss: 0.0153 - accuracy: 0.9959\n",
            "Epoch 8/10\n",
            "5000/5000 [==============================] - 14s 3ms/step - loss: 0.0122 - accuracy: 0.9969\n",
            "Epoch 9/10\n",
            "5000/5000 [==============================] - 14s 3ms/step - loss: 0.0099 - accuracy: 0.9974\n",
            "Epoch 10/10\n",
            "5000/5000 [==============================] - 14s 3ms/step - loss: 0.0079 - accuracy: 0.9977\n"
          ]
        }
      ]
    },
    {
      "cell_type": "markdown",
      "source": [
        "**Recall** = correct_true / target_true\n",
        "\n",
        "**precision** = correct_true / predicted_true\n",
        "\n",
        "**F1_score** = 2 * precission * recall / (precision + recall)"
      ],
      "metadata": {
        "id": "YeW2t6S5Zyk_"
      }
    },
    {
      "cell_type": "code",
      "source": [
        "# predict probabilities for test set\n",
        "yhat_probs = model_1.predict(x_test, verbose=0)\n",
        "# predict crisp classes for test set\n",
        "#y_pred = model.predict_classes(x_test)\n",
        "y_pred = np.argmax(yhat_probs, axis = -1)\n",
        "# reduce to 1d array\n",
        "yhat_probs = yhat_probs[:, 0]\n",
        "print(len(yhat_probs))\n",
        "print(len(y_pred))\n",
        "yhat_classes = y_pred\n",
        "#yhat_classes = yhat_classes[:, 0]\n",
        "# accuracy: (tp + tn) / (p + n)\n",
        "accuracy = accuracy_score(y, yhat_classes)\n",
        "print('Accuracy: %f' % accuracy)\n",
        "# precision tp / (tp + fp)\n",
        "precision = precision_score(y, yhat_classes, average = 'weighted')\n",
        "print('Precision: %f' % precision)\n",
        "# recall: tp / (tp + fn)\n",
        "recall = recall_score(y, yhat_classes, average = 'weighted')\n",
        "print('Recall: %f' % recall)\n",
        "# f1: 2 tp / (2 tp + fp + fn)\n",
        "f1 = f1_score(y, yhat_classes, average = 'weighted')\n",
        "print('F1 score: %f' % f1)\n",
        "# confusion matrix\n",
        "matrix = confusion_matrix(y, yhat_classes)\n",
        "print(matrix)"
      ],
      "metadata": {
        "colab": {
          "base_uri": "https://localhost:8080/"
        },
        "id": "WatlqqwL1_Ru",
        "outputId": "b5765252-019d-4648-d0e2-ca861165a095"
      },
      "execution_count": null,
      "outputs": [
        {
          "output_type": "stream",
          "name": "stdout",
          "text": [
            "100\n",
            "100\n",
            "Accuracy: 0.990000\n",
            "Precision: 0.990909\n",
            "Recall: 0.990000\n",
            "F1 score: 0.989975\n",
            "[[10  0  0  0  0  0  0  0  0  0]\n",
            " [ 0 10  0  0  0  0  0  0  0  0]\n",
            " [ 0  0 10  0  0  0  0  0  0  0]\n",
            " [ 0  0  0 10  0  0  0  0  0  0]\n",
            " [ 0  0  0  0 10  0  0  0  0  0]\n",
            " [ 0  0  0  0  0 10  0  0  0  0]\n",
            " [ 0  0  0  0  0  0 10  0  0  0]\n",
            " [ 0  0  0  0  0  0  0 10  0  0]\n",
            " [ 0  0  1  0  0  0  0  0  9  0]\n",
            " [ 0  0  0  0  0  0  0  0  0 10]]\n"
          ]
        }
      ]
    },
    {
      "cell_type": "markdown",
      "source": [
        "## Inferences and Conclusion : State all the key observations and conclusion"
      ],
      "metadata": {
        "id": "1SZ4sbwEJuKy"
      }
    },
    {
      "cell_type": "markdown",
      "source": [
        "\n",
        "\n",
        "1.   On changing the batch_size the computation time and accuracy varies significantly and hence must be judicously chosen\n",
        "2.   Involving further layers to the sequential model such as dropout or few more dense layers can increase or decrease the performance.\n",
        "3.   The type of optimizer being used also leads to difference in accuracy. Adam optimizer outperforms AdaDelta in this dataset. \n",
        "\n"
      ],
      "metadata": {
        "id": "zaCNngyWJwo3"
      }
    },
    {
      "cell_type": "code",
      "source": [
        "for layer in model_1.layers:\n",
        "    # check for convolutional layer\n",
        "    if 'conv' not in layer.name:\n",
        "      continue\n",
        "    # get filter weights\n",
        "    filters, biases = layer.get_weights()\n",
        "    print(layer.name, filters.shape)"
      ],
      "metadata": {
        "colab": {
          "base_uri": "https://localhost:8080/"
        },
        "id": "x7UVMUEB1v2U",
        "outputId": "c4c3686c-bfef-43e3-cf6e-f3b5bdc6863d"
      },
      "execution_count": null,
      "outputs": [
        {
          "output_type": "stream",
          "name": "stdout",
          "text": [
            "conv2d_6 (3, 3, 1, 32)\n",
            "conv2d_7 (3, 3, 32, 64)\n"
          ]
        }
      ]
    },
    {
      "cell_type": "code",
      "source": [
        "filters, biases = model_1.layers[0].get_weights()\n",
        "filters[:, :, :, 31].reshape(3,3)\n",
        "# normalize filter \n",
        "f_min, f_max = filters.min(), filters.max()\n",
        "filters = (filters - f_min) / (f_max - f_min)\n",
        "fig=plt.figure(figsize=(32, 32))\n",
        "columns = 3\n",
        "rows = 11 \n",
        "\n",
        "for i in range(32):\n",
        "  plt.subplot(rows, columns, i+1)\n",
        "  plt.imshow(filters[:, :, 0, i].reshape(3,3),cmap=\"gray\")\n",
        "  \n",
        "plt.show()"
      ],
      "metadata": {
        "colab": {
          "base_uri": "https://localhost:8080/",
          "height": 1000
        },
        "id": "ohTUozmO3ZWr",
        "outputId": "2d0b87e5-eb24-40d3-c3df-4b70c3b6904b"
      },
      "execution_count": null,
      "outputs": [
        {
          "output_type": "display_data",
          "data": {
            "image/png": "[encoded data removed]",
            "text/plain": [
              "<Figure size 2304x2304 with 32 Axes>"
            ]
          },
          "metadata": {
            "needs_background": "light"
          }
        }
      ]
    },
    {
      "cell_type": "code",
      "source": [
        "from tensorflow.keras import backend as K\n",
        "get_conv1_layer_output = K.function([model_1.layers[0].input],[model_1.layers[0].output])\n",
        "layer_output = get_conv1_layer_output([x_train])[0]\n",
        "fig=plt.figure(figsize=(26, 26))\n",
        "columns = 4\n",
        "rows = 8\n",
        "# for i in range(1,columns*rows+1):\n",
        "#     img = layer_output[0][:,:,i-1]\n",
        "#     fig.add_subplot(rows, columns, i)\n",
        "#     plt.imshow(img,cmap=\"gray\")\n",
        "# plt.show()\n",
        "\n",
        "for i in range(32):\n",
        "  plt.subplot(rows, columns, i+1)\n",
        "  img = layer_output[0][:,:,i]\n",
        "  plt.imshow(img,cmap=\"gray\")\n",
        "  \n",
        "plt.show()"
      ],
      "metadata": {
        "colab": {
          "base_uri": "https://localhost:8080/",
          "height": 1000
        },
        "id": "5LW6dGQQ4WP-",
        "outputId": "7dc2cb1a-398d-40bf-9aa6-4d8df2696be4"
      },
      "execution_count": null,
      "outputs": [
        {
          "output_type": "display_data",
          "data": {
            "image/png": "[encoded data removed]",
            "text/plain": [
              "<Figure size 1872x1872 with 32 Axes>"
            ]
          },
          "metadata": {
            "needs_background": "light"
          }
        }
      ]
    },
    {
      "cell_type": "markdown",
      "source": [
        "# **Using torch library**"
      ],
      "metadata": {
        "id": "Gm7pmIoIzHyk"
      }
    },
    {
      "cell_type": "markdown",
      "source": [
        "Here the entire dataset is taken into consideration of training i.e (60000,28,28) and testing i.e. (10000,28,28) so as to get an overall analysis of the cnn model using pytorch library."
      ],
      "metadata": {
        "id": "-s5_a__ebBh8"
      }
    },
    {
      "cell_type": "code",
      "source": [
        "import torch\n",
        "import torch.nn as nn\n",
        "import torch.nn.functional as F\n",
        "import torch.optim as optim\n",
        "import torch.utils.data as Data\n",
        "from torch.utils.data import DataLoader"
      ],
      "metadata": {
        "id": "4Esk9CsOHIVz"
      },
      "execution_count": null,
      "outputs": []
    },
    {
      "cell_type": "code",
      "source": [
        "import torchvision\n",
        "import torchvision.transforms as transforms\n",
        "import matplotlib.pyplot as plt\n",
        "\n",
        "# Import MNIST dataset \n",
        "train_dataset = torchvision.datasets.MNIST(root='./data', \n",
        "                                           train=True, \n",
        "                                           transform=transforms.ToTensor(),  \n",
        "                                           download=True)\n",
        "\n",
        "test_dataset = torchvision.datasets.MNIST(root='./data', \n",
        "                                          train=False, \n",
        "                                          transform=transforms.ToTensor())\n",
        "train_dataset"
      ],
      "metadata": {
        "colab": {
          "base_uri": "https://localhost:8080/",
          "height": 527,
          "referenced_widgets": [
            "85b060f52b8c4beba789dedcee53f31e",
            "d6b4a0ba1ca740079ffc64bd17aa1cad",
            "808125b5f49f4b93b99e4157e26e1bab",
            "0fa4685d717c4ee586f2ee464ed5bfd5",
            "d9d34103c85b4125aa16d97215123a6a",
            "4ad685e32bc841239bc0906965a2b373",
            "952d94da8849425689e5822611e641b8",
            "b0d56449414f4f3cb0c6a7d83a594ccc",
            "a02d8d7adc624cf0b1ebaed28bfa2ab8",
            "43de2d4d048444718d31e6a9b561ae5a",
            "a9e5127f8af94a778b9e43392b1f30ff",
            "5b18390fe10548d2a9e0dafdfa678a82",
            "1cf6958ac52842698a1891567d53d1bf",
            "ea5cde22538b48aa8fe7afba17a35a70",
            "4c6181cc2bdb41cfaf5ce8c10c02141a",
            "3ee202da44a1439f8dbf019241d16ce7",
            "d3d0209bad554bc887cc9ac831ec4aae",
            "3bd8c3a6607749409e76f15dd8c27091",
            "51c5c5d052f84e029a3273b5eda8d666",
            "1c3559e7bf914b2f981c2e960c4f900f",
            "047f11b865514693a628abb6fb00f771",
            "016502102bb3427f809dd249829b444b",
            "2ba0862b4ec8435bbb2e73672365dc9e",
            "619e33edecb8455f883457e1d97ecf94",
            "e46cf9525f48406193fd8ee9010cc2b2",
            "42b820cb9e3d43af8ebfa555e98587dd",
            "da5ec31d47454f3fa973d316d1c48e56",
            "f5dab04c74274c6b917d754e9171818a",
            "95e2455e4f32442e94e9921ea6c0d0bd",
            "e50a6b7795714969a7db872777230400",
            "0c83e77e461b4d95b75a2262b357e0e7",
            "a368fa3414b74e5eb8cbd0e41bdcf55f",
            "6d0cdae900154d54be3afcf7fdcd5111",
            "d2b23324d76f4359bae78560a303a3e2",
            "6df2e010846d456e9910fbfa5a78c01a",
            "116073378ec54bf0a37986891c672814",
            "d38680a727754603a843cd85f6c2c2b0",
            "d44dbf31dc4a479e87aa3eb6726a8527",
            "01e730476dd9419eb23a1eb53441de9c",
            "42fd5ed977f24b17817d22a69936a13e",
            "cec0c968dcf142b3aec551deb70b7abd",
            "f1621da4b4a2478a9235c7675e9c16e7",
            "d127357b608d4200bb891c0ca9d89306",
            "c5624e31a9a341b895111aa08bc628a3"
          ]
        },
        "id": "mcZgP3i5KICw",
        "outputId": "1a95dd73-062d-43b5-9535-757185f5429f"
      },
      "execution_count": null,
      "outputs": [
        {
          "output_type": "stream",
          "name": "stdout",
          "text": [
            "Downloading http://yann.lecun.com/exdb/mnist/train-images-idx3-ubyte.gz\n",
            "Downloading http://yann.lecun.com/exdb/mnist/train-images-idx3-ubyte.gz to ./data/MNIST/raw/train-images-idx3-ubyte.gz\n"
          ]
        },
        {
          "output_type": "display_data",
          "data": {
            "application/vnd.jupyter.widget-view+json": {
              "model_id": "85b060f52b8c4beba789dedcee53f31e",
              "version_minor": 0,
              "version_major": 2
            },
            "text/plain": [
              "  0%|          | 0/9912422 [00:00<?, ?it/s]"
            ]
          },
          "metadata": {}
        },
        {
          "output_type": "stream",
          "name": "stdout",
          "text": [
            "Extracting ./data/MNIST/raw/train-images-idx3-ubyte.gz to ./data/MNIST/raw\n",
            "\n",
            "Downloading http://yann.lecun.com/exdb/mnist/train-labels-idx1-ubyte.gz\n",
            "Downloading http://yann.lecun.com/exdb/mnist/train-labels-idx1-ubyte.gz to ./data/MNIST/raw/train-labels-idx1-ubyte.gz\n"
          ]
        },
        {
          "output_type": "display_data",
          "data": {
            "application/vnd.jupyter.widget-view+json": {
              "model_id": "5b18390fe10548d2a9e0dafdfa678a82",
              "version_minor": 0,
              "version_major": 2
            },
            "text/plain": [
              "  0%|          | 0/28881 [00:00<?, ?it/s]"
            ]
          },
          "metadata": {}
        },
        {
          "output_type": "stream",
          "name": "stdout",
          "text": [
            "Extracting ./data/MNIST/raw/train-labels-idx1-ubyte.gz to ./data/MNIST/raw\n",
            "\n",
            "Downloading http://yann.lecun.com/exdb/mnist/t10k-images-idx3-ubyte.gz\n",
            "Downloading http://yann.lecun.com/exdb/mnist/t10k-images-idx3-ubyte.gz to ./data/MNIST/raw/t10k-images-idx3-ubyte.gz\n"
          ]
        },
        {
          "output_type": "display_data",
          "data": {
            "application/vnd.jupyter.widget-view+json": {
              "model_id": "2ba0862b4ec8435bbb2e73672365dc9e",
              "version_minor": 0,
              "version_major": 2
            },
            "text/plain": [
              "  0%|          | 0/1648877 [00:00<?, ?it/s]"
            ]
          },
          "metadata": {}
        },
        {
          "output_type": "stream",
          "name": "stdout",
          "text": [
            "Extracting ./data/MNIST/raw/t10k-images-idx3-ubyte.gz to ./data/MNIST/raw\n",
            "\n",
            "Downloading http://yann.lecun.com/exdb/mnist/t10k-labels-idx1-ubyte.gz\n",
            "Downloading http://yann.lecun.com/exdb/mnist/t10k-labels-idx1-ubyte.gz to ./data/MNIST/raw/t10k-labels-idx1-ubyte.gz\n"
          ]
        },
        {
          "output_type": "display_data",
          "data": {
            "application/vnd.jupyter.widget-view+json": {
              "model_id": "d2b23324d76f4359bae78560a303a3e2",
              "version_minor": 0,
              "version_major": 2
            },
            "text/plain": [
              "  0%|          | 0/4542 [00:00<?, ?it/s]"
            ]
          },
          "metadata": {}
        },
        {
          "output_type": "stream",
          "name": "stdout",
          "text": [
            "Extracting ./data/MNIST/raw/t10k-labels-idx1-ubyte.gz to ./data/MNIST/raw\n",
            "\n"
          ]
        },
        {
          "output_type": "execute_result",
          "data": {
            "text/plain": [
              "Dataset MNIST\n",
              "    Number of datapoints: 60000\n",
              "    Root location: ./data\n",
              "    Split: Train\n",
              "    StandardTransform\n",
              "Transform: ToTensor()"
            ]
          },
          "metadata": {},
          "execution_count": 3
        }
      ]
    },
    {
      "cell_type": "code",
      "source": [
        "input_size = 784 # 28x28\n",
        "hidden_size = 500 \n",
        "num_classes = 10\n",
        "num_epochs = 2\n",
        "batch_size = 100\n",
        "learning_rate = 0.001 "
      ],
      "metadata": {
        "id": "H9T7zg4bL2c0"
      },
      "execution_count": null,
      "outputs": []
    },
    {
      "cell_type": "code",
      "source": [
        "# Data loader\n",
        "train_loader = torch.utils.data.DataLoader(dataset=train_dataset, \n",
        "                                            batch_size=batch_size, \n",
        "                                            shuffle=True)\n",
        "test_loader = torch.utils.data.DataLoader(dataset=test_dataset, \n",
        "                                           batch_size=batch_size, \n",
        "                                           shuffle=False)"
      ],
      "metadata": {
        "id": "PBhRXk5oK2Lc"
      },
      "execution_count": null,
      "outputs": []
    },
    {
      "cell_type": "code",
      "source": [
        "examples = iter(test_loader)\n",
        "example_data, example_targets = examples.next()\n",
        "for i in range(6):\n",
        "     plt.subplot(2,3,i+1)\n",
        "     plt.imshow(example_data[i][0], cmap='gray')\n",
        "plt.show() \n",
        "print(example_data.shape)"
      ],
      "metadata": {
        "colab": {
          "base_uri": "https://localhost:8080/",
          "height": 284
        },
        "id": "XWbToMVcLDNg",
        "outputId": "75a8171f-7969-4978-e6c6-2e1557d7e4ac"
      },
      "execution_count": null,
      "outputs": [
        {
          "output_type": "display_data",
          "data": {
            "image/png": "[encoded data removed]",
            "text/plain": [
              "<Figure size 432x288 with 6 Axes>"
            ]
          },
          "metadata": {
            "needs_background": "light"
          }
        },
        {
          "output_type": "stream",
          "name": "stdout",
          "text": [
            "torch.Size([100, 1, 28, 28])\n"
          ]
        }
      ]
    },
    {
      "cell_type": "markdown",
      "source": [
        "**First model using pytorch**"
      ],
      "metadata": {
        "id": "oVKHnccXaDyo"
      }
    },
    {
      "cell_type": "code",
      "source": [
        "device = torch.device('cuda' if torch.cuda.is_available() else 'cpu')"
      ],
      "metadata": {
        "id": "9Q8vHyUkN5oZ"
      },
      "execution_count": null,
      "outputs": []
    },
    {
      "cell_type": "code",
      "source": [
        "# Fully connected neural network with one hidden layer\n",
        "class NeuralNet(nn.Module):\n",
        "    def __init__(self, input_size, hidden_size, num_classes):\n",
        "        super(NeuralNet, self).__init__()\n",
        "        self.input_size = input_size\n",
        "        self.l1 = nn.Linear(input_size, hidden_size) \n",
        "        self.relu = nn.ReLU()\n",
        "        self.l2 = nn.Linear(hidden_size, num_classes)  \n",
        "    \n",
        "    def forward(self, x):\n",
        "        out = self.l1(x)\n",
        "        out = self.relu(out)\n",
        "        out = self.l2(out)\n",
        "        # no activation and no softmax at the end\n",
        "        return out\n",
        "\n",
        "model = NeuralNet(input_size, hidden_size, num_classes).to(device)"
      ],
      "metadata": {
        "id": "aFgOeDg-L_gC"
      },
      "execution_count": null,
      "outputs": []
    },
    {
      "cell_type": "code",
      "source": [
        "# Loss and optimizer\n",
        "criterion = nn.CrossEntropyLoss()\n",
        "optimizer = torch.optim.Adam(model.parameters(), lr=learning_rate)"
      ],
      "metadata": {
        "id": "vt0VoKWPNyTr"
      },
      "execution_count": null,
      "outputs": []
    },
    {
      "cell_type": "code",
      "source": [
        "# Train the model\n",
        "n_total_steps = len(train_loader)\n",
        "for epoch in range(num_epochs):\n",
        "    for i, (images, labels) in enumerate(train_loader):  \n",
        "        # origin shape: [100, 1, 28, 28]\n",
        "        # resized: [100, 784]\n",
        "        images = images.reshape(-1, 28*28).to(device)\n",
        "        labels = labels.to(device)\n",
        "\n",
        "        # Forward pass\n",
        "        outputs = model(images)\n",
        "        loss = criterion(outputs, labels)\n",
        "\n",
        "        # Backward and optimize\n",
        "        optimizer.zero_grad()\n",
        "        loss.backward()\n",
        "        optimizer.step()\n",
        "\n",
        "        if (i+1) % 100 == 0:\n",
        "            print (f'Epoch [{epoch+1}/{num_epochs}], Step [{i+1}/{n_total_steps}], Loss: {loss.item():.4f}')"
      ],
      "metadata": {
        "colab": {
          "base_uri": "https://localhost:8080/"
        },
        "id": "1WASc8U8OCDr",
        "outputId": "9ac6d8a1-dd84-48ee-8c07-1e6000e1366f"
      },
      "execution_count": null,
      "outputs": [
        {
          "output_type": "stream",
          "name": "stdout",
          "text": [
            "Epoch [1/2], Step [100/600], Loss: 0.2992\n",
            "Epoch [1/2], Step [200/600], Loss: 0.3649\n",
            "Epoch [1/2], Step [300/600], Loss: 0.2070\n",
            "Epoch [1/2], Step [400/600], Loss: 0.1925\n",
            "Epoch [1/2], Step [500/600], Loss: 0.0787\n",
            "Epoch [1/2], Step [600/600], Loss: 0.0814\n",
            "Epoch [2/2], Step [100/600], Loss: 0.0861\n",
            "Epoch [2/2], Step [200/600], Loss: 0.1351\n",
            "Epoch [2/2], Step [300/600], Loss: 0.1235\n",
            "Epoch [2/2], Step [400/600], Loss: 0.0733\n",
            "Epoch [2/2], Step [500/600], Loss: 0.1240\n",
            "Epoch [2/2], Step [600/600], Loss: 0.0663\n"
          ]
        }
      ]
    },
    {
      "cell_type": "code",
      "source": [
        "# Test the model\n",
        "# In test phase, we don't need to compute gradients (for memory efficiency)\n",
        "with torch.no_grad():\n",
        "    n_correct = 0\n",
        "    n_samples = 0\n",
        "    for images, labels in test_loader:\n",
        "        images = images.reshape(-1, 28*28).to(device)\n",
        "        labels = labels.to(device)\n",
        "        outputs = model(images)\n",
        "        # max returns (value ,index)\n",
        "        _, predicted = torch.max(outputs.data, 1)\n",
        "        n_samples += labels.size(0)\n",
        "        n_correct += (predicted == labels).sum().item()\n",
        "\n",
        "    acc = 100.0 * n_correct / n_samples\n",
        "    print(f'Accuracy of the network on the 10000 test images: {acc} %')"
      ],
      "metadata": {
        "colab": {
          "base_uri": "https://localhost:8080/"
        },
        "id": "te-M9pq_OnoD",
        "outputId": "cc904744-ee37-4a59-cbcd-73ace7c2ee8b"
      },
      "execution_count": null,
      "outputs": [
        {
          "output_type": "stream",
          "name": "stdout",
          "text": [
            "Accuracy of the network on the 10000 test images: 96.96 %\n"
          ]
        }
      ]
    },
    {
      "cell_type": "markdown",
      "source": [
        "**Second model of PyTorch**"
      ],
      "metadata": {
        "id": "4n8MGLnsaN0x"
      }
    },
    {
      "cell_type": "code",
      "source": [
        "import torch\n",
        "from torch.utils.data import DataLoader\n",
        "loaders = {\n",
        "    'train' : torch.utils.data.DataLoader(train_dataset, \n",
        "                                          batch_size=100, \n",
        "                                          shuffle=True, \n",
        "                                          num_workers=1),\n",
        "    \n",
        "    'test'  : torch.utils.data.DataLoader(test_dataset, \n",
        "                                          batch_size=100, \n",
        "                                          shuffle=True, \n",
        "                                          num_workers=1),\n",
        "}\n",
        "loaders"
      ],
      "metadata": {
        "id": "S9xgGu3vo9EP",
        "colab": {
          "base_uri": "https://localhost:8080/"
        },
        "outputId": "2b927c6b-6c03-4f5d-90c8-d01b0fc8c19e"
      },
      "execution_count": null,
      "outputs": [
        {
          "output_type": "execute_result",
          "data": {
            "text/plain": [
              "{'test': <torch.utils.data.dataloader.DataLoader at 0x7fbeed76cf90>,\n",
              " 'train': <torch.utils.data.dataloader.DataLoader at 0x7fbeefdd7350>}"
            ]
          },
          "metadata": {},
          "execution_count": 5
        }
      ]
    },
    {
      "cell_type": "code",
      "source": [
        "import torch.nn as nn\n",
        "class CNN(nn.Module):\n",
        "    def __init__(self):\n",
        "        super(CNN, self).__init__()\n",
        "        self.conv1 = nn.Sequential(         \n",
        "            nn.Conv2d(\n",
        "                in_channels=1,              \n",
        "                out_channels=16,            \n",
        "                kernel_size=5,              \n",
        "                stride=1,                   \n",
        "                padding=2,                  \n",
        "            ),                              \n",
        "            nn.ReLU(),                      \n",
        "            nn.MaxPool2d(kernel_size=2),    \n",
        "        )\n",
        "        self.conv2 = nn.Sequential(         \n",
        "            nn.Conv2d(16, 32, 5, 1, 2),     \n",
        "            nn.ReLU(),                      \n",
        "            nn.MaxPool2d(2),                \n",
        "        )\n",
        "        # fully connected layer, output 10 classes\n",
        "        self.out = nn.Linear(32 * 7 * 7, 10)\n",
        "    def forward(self, x):\n",
        "        x = self.conv1(x)\n",
        "        x = self.conv2(x)\n",
        "        # flatten the output of conv2 to (batch_size, 32 * 7 * 7)\n",
        "        x = x.view(x.size(0), -1)       \n",
        "        output = self.out(x)\n",
        "        return output, x    # return x for visualization"
      ],
      "metadata": {
        "id": "XyAmCCI75Lrv"
      },
      "execution_count": null,
      "outputs": []
    },
    {
      "cell_type": "code",
      "source": [
        "cnn = CNN()\n",
        "print(cnn)"
      ],
      "metadata": {
        "colab": {
          "base_uri": "https://localhost:8080/"
        },
        "id": "MPQyYLzn6HI9",
        "outputId": "f9e3c61c-9c3f-4918-e3c3-f4a64b348c17"
      },
      "execution_count": null,
      "outputs": [
        {
          "output_type": "stream",
          "name": "stdout",
          "text": [
            "CNN(\n",
            "  (conv1): Sequential(\n",
            "    (0): Conv2d(1, 16, kernel_size=(5, 5), stride=(1, 1), padding=(2, 2))\n",
            "    (1): ReLU()\n",
            "    (2): MaxPool2d(kernel_size=2, stride=2, padding=0, dilation=1, ceil_mode=False)\n",
            "  )\n",
            "  (conv2): Sequential(\n",
            "    (0): Conv2d(16, 32, kernel_size=(5, 5), stride=(1, 1), padding=(2, 2))\n",
            "    (1): ReLU()\n",
            "    (2): MaxPool2d(kernel_size=2, stride=2, padding=0, dilation=1, ceil_mode=False)\n",
            "  )\n",
            "  (out): Linear(in_features=1568, out_features=10, bias=True)\n",
            ")\n"
          ]
        }
      ]
    },
    {
      "cell_type": "code",
      "source": [
        "loss_func = nn.CrossEntropyLoss()   \n",
        "loss_func"
      ],
      "metadata": {
        "colab": {
          "base_uri": "https://localhost:8080/"
        },
        "id": "74VzN5WM6LTN",
        "outputId": "83f22a0d-d6a9-4286-f6cf-cd58b21985c9"
      },
      "execution_count": null,
      "outputs": [
        {
          "output_type": "execute_result",
          "data": {
            "text/plain": [
              "CrossEntropyLoss()"
            ]
          },
          "metadata": {},
          "execution_count": 8
        }
      ]
    },
    {
      "cell_type": "code",
      "source": [
        "from torch import optim\n",
        "optimizer = optim.Adam(cnn.parameters(), lr = 0.01)   \n",
        "optimizer"
      ],
      "metadata": {
        "colab": {
          "base_uri": "https://localhost:8080/"
        },
        "id": "ay2H50m96PXG",
        "outputId": "0326d6ce-72b6-4f36-cf3b-601078a82d38"
      },
      "execution_count": null,
      "outputs": [
        {
          "output_type": "execute_result",
          "data": {
            "text/plain": [
              "Adam (\n",
              "Parameter Group 0\n",
              "    amsgrad: False\n",
              "    betas: (0.9, 0.999)\n",
              "    eps: 1e-08\n",
              "    lr: 0.01\n",
              "    weight_decay: 0\n",
              ")"
            ]
          },
          "metadata": {},
          "execution_count": 9
        }
      ]
    },
    {
      "cell_type": "code",
      "source": [
        "from torch.autograd import Variable\n",
        "num_epochs = 10\n",
        "def train(num_epochs, cnn, loaders):\n",
        "    \n",
        "    cnn.train()\n",
        "        \n",
        "    # Train the model\n",
        "    total_step = len(loaders['train'])\n",
        "        \n",
        "    for epoch in range(num_epochs):\n",
        "        for i, (images, labels) in enumerate(loaders['train']):\n",
        "            \n",
        "            # gives batch data, normalize x when iterate train_loader\n",
        "            b_x = Variable(images)   # batch x\n",
        "            b_y = Variable(labels)   # batch y\n",
        "            #print(b_x.shape)\n",
        "            output = cnn(b_x)[0]               \n",
        "            loss = loss_func(output, b_y)\n",
        "            \n",
        "            # clear gradients for this training step   \n",
        "            optimizer.zero_grad()           \n",
        "            \n",
        "            # backpropagation, compute gradients \n",
        "            loss.backward()    \n",
        "            # apply gradients             \n",
        "            optimizer.step()                \n",
        "            \n",
        "            if (i+1) % 100 == 0:\n",
        "                print ('Epoch [{}/{}], Step [{}/{}], Loss: {:.4f}' \n",
        "                       .format(epoch + 1, num_epochs, i + 1, total_step, loss.item()))\n",
        "            pass\n",
        "        \n",
        "        pass\n",
        "    \n",
        "    \n",
        "    pass\n",
        "train(num_epochs, cnn, loaders)"
      ],
      "metadata": {
        "colab": {
          "base_uri": "https://localhost:8080/"
        },
        "id": "p7ZUk1D76Xcd",
        "outputId": "d38ed269-dd5e-408f-f3b5-5c72fe8b3fcb"
      },
      "execution_count": null,
      "outputs": [
        {
          "output_type": "stream",
          "name": "stdout",
          "text": [
            "Epoch [1/10], Step [100/600], Loss: 0.0374\n",
            "Epoch [1/10], Step [200/600], Loss: 0.0010\n",
            "Epoch [1/10], Step [300/600], Loss: 0.0007\n",
            "Epoch [1/10], Step [400/600], Loss: 0.0924\n",
            "Epoch [1/10], Step [500/600], Loss: 0.0174\n",
            "Epoch [1/10], Step [600/600], Loss: 0.0247\n",
            "Epoch [2/10], Step [100/600], Loss: 0.0261\n",
            "Epoch [2/10], Step [200/600], Loss: 0.0126\n",
            "Epoch [2/10], Step [300/600], Loss: 0.0022\n",
            "Epoch [2/10], Step [400/600], Loss: 0.0010\n",
            "Epoch [2/10], Step [500/600], Loss: 0.0959\n",
            "Epoch [2/10], Step [600/600], Loss: 0.0205\n",
            "Epoch [3/10], Step [100/600], Loss: 0.0061\n",
            "Epoch [3/10], Step [200/600], Loss: 0.0003\n",
            "Epoch [3/10], Step [300/600], Loss: 0.0157\n",
            "Epoch [3/10], Step [400/600], Loss: 0.0661\n",
            "Epoch [3/10], Step [500/600], Loss: 0.0478\n",
            "Epoch [3/10], Step [600/600], Loss: 0.0081\n",
            "Epoch [4/10], Step [100/600], Loss: 0.0006\n",
            "Epoch [4/10], Step [200/600], Loss: 0.0178\n",
            "Epoch [4/10], Step [300/600], Loss: 0.0388\n",
            "Epoch [4/10], Step [400/600], Loss: 0.0552\n",
            "Epoch [4/10], Step [500/600], Loss: 0.0138\n",
            "Epoch [4/10], Step [600/600], Loss: 0.0298\n",
            "Epoch [5/10], Step [100/600], Loss: 0.0265\n",
            "Epoch [5/10], Step [200/600], Loss: 0.1957\n",
            "Epoch [5/10], Step [300/600], Loss: 0.0069\n",
            "Epoch [5/10], Step [400/600], Loss: 0.0016\n",
            "Epoch [5/10], Step [500/600], Loss: 0.0074\n",
            "Epoch [5/10], Step [600/600], Loss: 0.0398\n",
            "Epoch [6/10], Step [100/600], Loss: 0.0532\n",
            "Epoch [6/10], Step [200/600], Loss: 0.0000\n",
            "Epoch [6/10], Step [300/600], Loss: 0.0027\n",
            "Epoch [6/10], Step [400/600], Loss: 0.1187\n",
            "Epoch [6/10], Step [500/600], Loss: 0.0001\n",
            "Epoch [6/10], Step [600/600], Loss: 0.0000\n",
            "Epoch [7/10], Step [100/600], Loss: 0.0869\n",
            "Epoch [7/10], Step [200/600], Loss: 0.1619\n",
            "Epoch [7/10], Step [300/600], Loss: 0.0015\n",
            "Epoch [7/10], Step [400/600], Loss: 0.0001\n",
            "Epoch [7/10], Step [500/600], Loss: 0.0025\n",
            "Epoch [7/10], Step [600/600], Loss: 0.1041\n",
            "Epoch [8/10], Step [100/600], Loss: 0.0098\n",
            "Epoch [8/10], Step [200/600], Loss: 0.0892\n",
            "Epoch [8/10], Step [300/600], Loss: 0.0100\n",
            "Epoch [8/10], Step [400/600], Loss: 0.0026\n",
            "Epoch [8/10], Step [500/600], Loss: 0.0005\n",
            "Epoch [8/10], Step [600/600], Loss: 0.2295\n",
            "Epoch [9/10], Step [100/600], Loss: 0.0116\n",
            "Epoch [9/10], Step [200/600], Loss: 0.0014\n",
            "Epoch [9/10], Step [300/600], Loss: 0.0000\n",
            "Epoch [9/10], Step [400/600], Loss: 0.0875\n",
            "Epoch [9/10], Step [500/600], Loss: 0.0000\n",
            "Epoch [9/10], Step [600/600], Loss: 0.0258\n",
            "Epoch [10/10], Step [100/600], Loss: 0.0000\n",
            "Epoch [10/10], Step [200/600], Loss: 0.0027\n",
            "Epoch [10/10], Step [300/600], Loss: 0.0070\n",
            "Epoch [10/10], Step [400/600], Loss: 0.0001\n",
            "Epoch [10/10], Step [500/600], Loss: 0.0573\n",
            "Epoch [10/10], Step [600/600], Loss: 0.0187\n"
          ]
        }
      ]
    },
    {
      "cell_type": "code",
      "source": [
        "def test():\n",
        "    # Test the model\n",
        "    cnn.eval()\n",
        "    with torch.no_grad():\n",
        "        correct = 0\n",
        "        total = 0\n",
        "        for images, labels in loaders['test']:\n",
        "            test_output, last_layer = cnn(images)\n",
        "            pred_y = torch.max(test_output, 1)[1].data.squeeze()\n",
        "            accuracy = (pred_y == labels).sum().item() / float(labels.size(0))\n",
        "            pass\n",
        "    print('Test Accuracy of the model on the 10000 test images: %.2f' % accuracy)\n",
        "    \n",
        "    pass\n",
        "test()"
      ],
      "metadata": {
        "colab": {
          "base_uri": "https://localhost:8080/"
        },
        "id": "GjaWABG4Ycbi",
        "outputId": "0db39401-b292-4a9c-8ac5-b678fdce3ffc"
      },
      "execution_count": null,
      "outputs": [
        {
          "output_type": "stream",
          "name": "stdout",
          "text": [
            "Test Accuracy of the model on the 10000 test images: 0.99\n"
          ]
        }
      ]
    },
    {
      "cell_type": "code",
      "source": [
        "sample = next(iter(loaders['test']))\n",
        "imgs, lbls = sample\n",
        "actual_number = lbls[:10].numpy()\n",
        "test_output, last_layer = cnn(imgs[:10])\n",
        "pred_y = torch.max(test_output, 1)[1].data.numpy().squeeze()\n",
        "print(f'Prediction number: {pred_y}')\n",
        "print(f'Actual number: {actual_number}')"
      ],
      "metadata": {
        "colab": {
          "base_uri": "https://localhost:8080/"
        },
        "id": "rV6uzULoYxIy",
        "outputId": "f7db08d0-9e35-4d1c-faed-adc0b1972080"
      },
      "execution_count": null,
      "outputs": [
        {
          "output_type": "stream",
          "name": "stdout",
          "text": [
            "Prediction number: [0 5 6 7 3 8 3 8 2 4]\n",
            "Actual number: [0 5 6 7 3 8 3 8 2 4]\n"
          ]
        }
      ]
    },
    {
      "cell_type": "markdown",
      "source": [
        "# **Inference**\n",
        "\n",
        "1. The cnn model gives very high accuracy on mnist dataset classification with pytorch library functions too.\n",
        "\n",
        "2. Batch size leads to variation in computation time of the model.\n",
        "\n",
        "3. Learning rate parameter and activation functions used produces different accuracies and hence must be judiciously chosen as per the dataset given."
      ],
      "metadata": {
        "id": "Rx3wp2qJaZtw"
      }
    }
  ]
}